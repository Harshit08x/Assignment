{
 "cells": [
  {
   "cell_type": "code",
   "execution_count": 7,
   "metadata": {},
   "outputs": [],
   "source": [
    "#Assignment Submitted by Harshit Agrahari Date :- 22 May 2024"
   ]
  },
  {
   "cell_type": "code",
   "execution_count": 8,
   "metadata": {},
   "outputs": [
    {
     "name": "stdout",
     "output_type": "stream",
     "text": [
      "First variable is 10 & second variable is 5.\n",
      "Addition: 10 + 5 = 15\n",
      "Subtraction: 10 - 5 = 5\n",
      "Multiplication: 10 * 5 = 50\n",
      "Division: 10 / 5 = 2.00\n"
     ]
    }
   ],
   "source": [
    "\"\"\"\n",
    "Q.1. Create two int type variables, apply addition, subtraction, division and multiplications\n",
    "and store the results in variables. Then print the data in the following format by calling the\n",
    "variables:\n",
    "First variable is __ & second variable is __.\n",
    "Addition: __ + __ = __\n",
    "Subtraction: __ - __ = __\n",
    "Multiplication: __ * __ = __\n",
    "Division: __ / __ = __\n",
    "\n",
    "\"\"\"\n",
    "#Answer\n",
    "\n",
    "# Create two integer variables\n",
    "num1 = 10\n",
    "num2 = 5\n",
    "\n",
    "# Perform arithmetic operations and store results\n",
    "sum = num1 + num2\n",
    "difference = num1 - num2\n",
    "product = num1 * num2\n",
    "division = num1 / num2  # This will result in a float, convert to integer using //\n",
    "\n",
    "# Print the results in the desired format using f-strings\n",
    "print(f\"First variable is {num1} & second variable is {num2}.\")\n",
    "print(f\"Addition: {num1} + {num2} = {sum}\")\n",
    "print(f\"Subtraction: {num1} - {num2} = {difference}\")\n",
    "print(f\"Multiplication: {num1} * {num2} = {product}\")\n",
    "print(f\"Division: {num1} / {num2} = {division:.2f}\")  # Format division result to 2 decimal places\n"
   ]
  },
  {
   "cell_type": "code",
   "execution_count": 3,
   "metadata": {},
   "outputs": [
    {
     "data": {
      "text/plain": [
       "'\\n\\n\\n\\n\\n'"
      ]
     },
     "execution_count": 3,
     "metadata": {},
     "output_type": "execute_result"
    }
   ],
   "source": [
    "\"\"\"\n",
    "Q.2. What is the difference between the following operators:\n",
    "(i) ‘/’ & ‘//’\n",
    "(ii) ‘**’ & ‘^’\n",
    "\n",
    "\"\"\"\n",
    "#Answer \n",
    "\"\"\"\n",
    "1./ (Division Operator):\n",
    "\n",
    "Performs classic division and returns a float (floating-point number) as the \n",
    "result.\n",
    "\n",
    "It attempts to divide the dividend (the number before the operator) by the \n",
    "divisor (the number after the operator).\n",
    "\n",
    "Example: 10 / 3 results in 3.3333333333333335 (a float representing \n",
    "approximately 3.33).\n",
    "\n",
    "\n",
    "2.// (Floor Division Operator):\n",
    "\n",
    "Performs integer division and returns the largest integer that is less than or \n",
    "equal to the result of the classic division.\n",
    "\n",
    "It discards any remainder after the division.\n",
    "\n",
    "Example: 10 // 3 results in 3 (the largest integer less than or equal to 3.33).\n",
    "\n",
    "3.** (Exponentiation Operator):\n",
    "\n",
    "Performs exponentiation, raising the number before the operator (base) to the \n",
    "power of the number after the operator (exponent).\n",
    "\n",
    "Example: 2 ** 3 results in 8 (2 raised to the power of 3 is 2 x 2 x 2).\n",
    "\n",
    "4.^ (Bitwise XOR Operator):  Not commonly used for mathematical exponentiation\n",
    "\n",
    "Performs a bitwise exclusive OR (XOR) operation on the binary representations \n",
    "of the operands.\n",
    "\n",
    "This operation results in a 1 if the corresponding bits of the operands are \n",
    "different, and a 0 if they are the same.\n",
    "\n",
    "In Python, ** is the preferred operator for exponentiation.\n",
    "\n",
    "\"\"\""
   ]
  },
  {
   "cell_type": "code",
   "execution_count": 4,
   "metadata": {},
   "outputs": [
    {
     "data": {
      "text/plain": [
       "'\\n\\n\\n\\n\\n'"
      ]
     },
     "execution_count": 4,
     "metadata": {},
     "output_type": "execute_result"
    }
   ],
   "source": [
    "\"Q.3. List the logical operators.\"\n",
    "#Answer \n",
    "\"\"\"\n",
    "1.(and): This operator performs a logical conjunction. It returns True only if \n",
    "both operands (expressions) are True. Otherwise, it returns False.\n",
    "\n",
    "x = 5 > 3  # True\n",
    "y = 10 < 2  # False\n",
    "result = x and y  # False (because only one operand is True)\n",
    "\n",
    "\n",
    "2.(or): This operator performs a logical disjunction. It returns True if at \n",
    "least one operand is True. It returns False only if both operands are False.\n",
    "\n",
    "x = 5 > 3  # True\n",
    "y = 10 < 2  # False\n",
    "result = x or y  # True (because one operand is True)\n",
    "\n",
    "3.(not): This operator performs a logical negation. It reverses the logical \n",
    "state of its operand. If the operand is True, it becomes False, and vice versa.\n",
    "\n",
    "\n",
    "x = 5 > 3  # True\n",
    "result = not x  # False (negates the True value)\n",
    "\n",
    "\n",
    "\"\"\""
   ]
  },
  {
   "cell_type": "code",
   "execution_count": 9,
   "metadata": {},
   "outputs": [
    {
     "name": "stdout",
     "output_type": "stream",
     "text": [
      "Original number (binary): 1010\n",
      "Shifted right by 2 (binary): 10\n",
      "Shifted right value: 2\n"
     ]
    },
    {
     "data": {
      "text/plain": [
       "'\\n2.Left Shift Operator (<<)\\n\\nFunction: Shifts the bits in the operand (the number before the operator) to \\nthe left by a specified number of positions (the operand after the operator).\\n\\nEffect: Discards the bits that are shifted out from the right side.Fills the \\nvacated positions on the right side with zeros.\\n\\n'"
      ]
     },
     "execution_count": 9,
     "metadata": {},
     "output_type": "execute_result"
    }
   ],
   "source": [
    "\"\"\"\n",
    "Q.4. Explain right shift operator and left shift operator with examples.\n",
    "\n",
    "\"\"\"\n",
    "#Answer \n",
    "\n",
    "\"\"\"\n",
    "1.Right Shift Operator (>>)\n",
    "\n",
    "Function: Shifts the bits in the operand (the number before the operator) to \n",
    "the right by a specified number of positions (the operand after the operator).\n",
    "\n",
    "Effect: Discards the bits that are shifted out from the left side.Fills the \n",
    "vacated positions on the left side with zeros (zero-filling).\n",
    "\n",
    "\"\"\"\n",
    "#Example \n",
    "number = 10  # Binary representation: 1010\n",
    "shifted_right = number >> 2  # Shift 10 right by 2 positions\n",
    "\n",
    "print(f\"Original number (binary): {number:b}\")\n",
    "print(f\"Shifted right by 2 (binary): {shifted_right:b}\")\n",
    "print(f\"Shifted right value: {shifted_right}\")  # Output: 2\n",
    "\n",
    "\"\"\"\n",
    "2.Left Shift Operator (<<)\n",
    "\n",
    "Function: Shifts the bits in the operand (the number before the operator) to \n",
    "the left by a specified number of positions (the operand after the operator).\n",
    "\n",
    "Effect: Discards the bits that are shifted out from the right side.Fills the \n",
    "vacated positions on the right side with zeros.\n",
    "\n",
    "\"\"\"\n",
    "#Example \n",
    "number = 5  # Binary representation: 0101\n",
    "shifted_left = number << 1  # Shift 5 left by 1 position\n",
    "\n",
    "print(f\"Original number (binary): {number:b}\")\n",
    "print(f\"Shifted left by 1 (binary): {shifted_left:b}\")\n",
    "print(f\"Shifted left value: {shifted_left}\")  # Output: 10\n",
    "\n"
   ]
  },
  {
   "cell_type": "code",
   "execution_count": 11,
   "metadata": {},
   "outputs": [
    {
     "name": "stdout",
     "output_type": "stream",
     "text": [
      "10 is present in the list.\n"
     ]
    },
    {
     "data": {
      "text/plain": [
       "'\\nExplanation:\\n\\nList Creation:\\n\\nmy_list = [1, 5, 8, 3, 2, 12, 6, 19, 21, 4, 10, 7, 15, 9, 18] creates a list named my_list containing 15 integer values. You can replace these values with your own data.\\nChecking for Presence:\\n\\nif 10 in my_list: This line uses the in operator to check if the value 10 exists within the my_list. The in operator efficiently searches for elements in a list.\\nprint(\"10 is present in the list.\") If 10 is found in the list, this statement is executed, indicating its presence.\\nelse: If 10 is not found, the else block is executed.\\nprint(\"10 is not present in the list.\") This statement informs you that 10 is not present in the list.\\n\\n\\n\\n\\n'"
      ]
     },
     "execution_count": 11,
     "metadata": {},
     "output_type": "execute_result"
    }
   ],
   "source": [
    "\"\"\"Q.5. Create a list containing int type data of length 15. Then write a code\n",
    "to check if 10 is present in the list or not.\"\"\"\n",
    "\n",
    "#Answer \n",
    "\n",
    "# Create a list containing 15 integer type data\n",
    "my_list = [1, 5, 8, 3, 2, 12, 6, 19, 21, 4, 10, 7, 15, 9, 18]\n",
    "\n",
    "# Check if 10 is present in the list using the efficient \"in\" operator\n",
    "if 10 in my_list:\n",
    "    print(\"10 is present in the list.\")\n",
    "else:\n",
    "    print(\"10 is not present in the list.\")\n",
    "\n",
    "\"\"\"\n",
    "Explanation:\n",
    "\n",
    "List Creation:\n",
    "\n",
    "my_list = [1, 5, 8, 3, 2, 12, 6, 19, 21, 4, 10, 7, 15, 9, 18] creates a list \n",
    "named my_list containing 15 integer values. You can replace these values with\n",
    "your own data.\n",
    "\n",
    "\n",
    "Checking for Presence:\n",
    "\n",
    "if 10 in my_list: This line uses the in operator to check if the value 10 exist\n",
    "within the my_list. The in operator efficiently searches for elements in a list.\n",
    "\n",
    "print(\"10 is present in the list.\") If 10 is found in the list, this statement\n",
    "is executed, indicating its presence.\n",
    "\n",
    "else: If 10 is not found, the else block is executed.\n",
    "\n",
    "print(\"10 is not present in the list.\") This statement informs you that 10 is \n",
    "not present in the list.\n",
    "\n",
    "\"\"\"\n"
   ]
  },
  {
   "cell_type": "code",
   "execution_count": null,
   "metadata": {},
   "outputs": [],
   "source": []
  }
 ],
 "metadata": {
  "kernelspec": {
   "display_name": "Python 3",
   "language": "python",
   "name": "python3"
  },
  "language_info": {
   "codemirror_mode": {
    "name": "ipython",
    "version": 3
   },
   "file_extension": ".py",
   "mimetype": "text/x-python",
   "name": "python",
   "nbconvert_exporter": "python",
   "pygments_lexer": "ipython3",
   "version": "3.11.9"
  }
 },
 "nbformat": 4,
 "nbformat_minor": 2
}
