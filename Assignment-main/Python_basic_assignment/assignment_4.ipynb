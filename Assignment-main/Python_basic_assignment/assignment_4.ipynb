{
 "cells": [
  {
   "cell_type": "code",
   "execution_count": 1,
   "metadata": {},
   "outputs": [],
   "source": [
    "#Assignment submitted by Harshit Agrahari DATE :- 21 MAY 2024\n"
   ]
  },
  {
   "cell_type": "code",
   "execution_count": 4,
   "metadata": {},
   "outputs": [
    {
     "data": {
      "text/plain": [
       "'\\n1.List creation: They are used to define lists, which are ordered collections of \\nitems. You can place any data type within the brackets, separated by commas. \\n\\nmy_list = [1, \"hello\", 3.4]\\n\\n2.Accessing elements: Square brackets are also used to access elements within \\na list or other sequences (like strings in some contexts). You specify the \\nindex position of the element you want, enclosed within the brackets. \\nIndexing starts from 0, so the first element is at index 0, the second at \\nindex 1, and so on\\n\\nnumbers = [4, 8, 15, 16]\\nfirst_number = numbers[0]  # first_number will be 4\\nlast_number = numbers[-1]  # last_number will be 16 (negative index for last element)\\n\\n'"
      ]
     },
     "execution_count": 4,
     "metadata": {},
     "output_type": "execute_result"
    }
   ],
   "source": [
    "#1. What exactly is []?\n",
    "\n",
    "\"\"\"\n",
    "1.List creation: They are used to define lists, which are ordered collections of \n",
    "items. You can place any data type within the brackets, separated by commas. \n",
    "\n",
    "my_list = [1, \"hello\", 3.4]\n",
    "\n",
    "2.Accessing elements: Square brackets are also used to access elements within \n",
    "a list or other sequences (like strings in some contexts). You specify the \n",
    "index position of the element you want, enclosed within the brackets. \n",
    "Indexing starts from 0, so the first element is at index 0, the second at \n",
    "index 1, and so on\n",
    "\n",
    "numbers = [4, 8, 15, 16]\n",
    "first_number = numbers[0]  # first_number will be 4\n",
    "last_number = numbers[-1]  # last_number will be 16 (negative index for last element)\n",
    "\n",
    "\"\"\""
   ]
  },
  {
   "cell_type": "code",
   "execution_count": 5,
   "metadata": {},
   "outputs": [
    {
     "name": "stdout",
     "output_type": "stream",
     "text": [
      "['a', 'b', 'hello', 'd']\n"
     ]
    }
   ],
   "source": [
    "\"\"\"\n",
    "2. In a list of values stored in a variable called spam, how would you assign the value &#39;hello&#39; as the\n",
    "third value? (Assume [2, 4, 6, 8, 10] are in spam.)\n",
    "\n",
    "Lets pretend the spam includes the list [\"a\",\"b\",\"c\",\"d\"] for the next three queries.\n",
    "\n",
    "\"\"\"\n",
    "#Answer\n",
    "spam = ['a', 'b', 'c', 'd']\n",
    "\n",
    "# Assign 'hello' at index 2 (third position)\n",
    "spam[2] = 'hello'\n",
    "\n",
    "print(spam)  # Output: ['a', 'b', 'hello', 'd']\n",
    "\n"
   ]
  },
  {
   "cell_type": "code",
   "execution_count": 6,
   "metadata": {},
   "outputs": [
    {
     "data": {
      "text/plain": [
       "'\\nLet\\'s break down the expression spam[int(int(\"3\" * 2) / 11)] to determine the\\nvalue of spam[index]:\\n\\n1.\"3\" * 2: This part multiplies the string \"3\" by 2. In Python, string \\nmultiplication concatenates the string with itself the specified number of \\ntimes. So, \"3\" * 2 becomes \"33\".\\n\\n2.int(\"33\"): Here, we convert the string \"33\" to an integer. Since \"33\" only \\ncontains digits, this conversion is successful and results in the integer 33.\\n\\n3.int(33 / 11): We perform integer division (denoted by //) on 33 by 11. \\nInteger division discards any remainder, so 33 // 11 equals 3.\\n\\n4.int(3): Since 3 is already an integer, converting it to an integer again \\nusing int(3) has no effect and simply returns 3.\\n\\n5.spam[3]: Finally, we use the index 3 to access the element at the fourth \\nposition (remember indexing starts from 0) within the list spam.\\n\\nAssuming spam contains the list [\\'a\\', \\'b\\', \\'c\\', \\'d\\']:\\n\\nspam[3] will access the element at index 3, which is \\'d\\'.\\n\\n'"
      ]
     },
     "execution_count": 6,
     "metadata": {},
     "output_type": "execute_result"
    }
   ],
   "source": [
    "#3. What is the value of spam[int(int(\"3\" * 2) / 11)]?\n",
    "\n",
    "\"\"\"\n",
    "Let's break down the expression spam[int(int(\"3\" * 2) / 11)] to determine the\n",
    "value of spam[index]:\n",
    "\n",
    "1.\"3\" * 2: This part multiplies the string \"3\" by 2. In Python, string \n",
    "multiplication concatenates the string with itself the specified number of \n",
    "times. So, \"3\" * 2 becomes \"33\".\n",
    "\n",
    "2.int(\"33\"): Here, we convert the string \"33\" to an integer. Since \"33\" only \n",
    "contains digits, this conversion is successful and results in the integer 33.\n",
    "\n",
    "3.int(33 / 11): We perform integer division (denoted by //) on 33 by 11. \n",
    "Integer division discards any remainder, so 33 // 11 equals 3.\n",
    "\n",
    "4.int(3): Since 3 is already an integer, converting it to an integer again \n",
    "using int(3) has no effect and simply returns 3.\n",
    "\n",
    "5.spam[3]: Finally, we use the index 3 to access the element at the fourth \n",
    "position (remember indexing starts from 0) within the list spam.\n",
    "\n",
    "Assuming spam contains the list ['a', 'b', 'c', 'd']:\n",
    "\n",
    "spam[3] will access the element at index 3, which is 'd'.\n",
    "\n",
    "\"\"\""
   ]
  },
  {
   "cell_type": "code",
   "execution_count": 7,
   "metadata": {},
   "outputs": [
    {
     "data": {
      "text/plain": [
       "\"\\nAssuming spam contains the list ['a', 'b', 'c', 'd'], the value of spam[-1] \\nwould be 'd'.\\n\\nHere's why:\\n\\nSquare brackets [] are used for accessing elements within a list in Python.\\n\\nNegative indexing allows you to access elements from the end of the list.\\n\\n-1 refers to the last element in the list.\\n\\n\""
      ]
     },
     "execution_count": 7,
     "metadata": {},
     "output_type": "execute_result"
    }
   ],
   "source": [
    "#4. What is the value of spam[-1]?\n",
    "\"\"\"\n",
    "Assuming spam contains the list ['a', 'b', 'c', 'd'], the value of spam[-1] \n",
    "would be 'd'.\n",
    "\n",
    "Here's why:\n",
    "\n",
    "Square brackets [] are used for accessing elements within a list in Python.\n",
    "\n",
    "Negative indexing allows you to access elements from the end of the list.\n",
    "\n",
    "-1 refers to the last element in the list.\n",
    "\n",
    "\"\"\""
   ]
  },
  {
   "cell_type": "code",
   "execution_count": 8,
   "metadata": {},
   "outputs": [
    {
     "data": {
      "text/plain": [
       "\"\\nAssuming bacon has the list [3.14, 'cat,', 11, 'cat,', True], \\nthe value of bacon[:2] would be [3.14, 'cat,'].\\n\\nHere's the breakdown:\\n\\nSquare brackets [] are used for slicing a list in Python.\\n\\n: separates the starting and ending indices (or omissions) for the slice.\\n\\n:2 specifies that we want a slice starting from the beginning (index 0, \\nwhich is included) up to, but not including, index 2.\\n\\n\""
      ]
     },
     "execution_count": 8,
     "metadata": {},
     "output_type": "execute_result"
    }
   ],
   "source": [
    "\"\"\"\n",
    "Question 5. What is the value of spam[:2]?\n",
    "Lets pretend bacon has the list [3.14, \"cat\", 11, \"cat\", True] for the next three questions.\n",
    "\"\"\"\n",
    "#Answer\n",
    "\n",
    "\"\"\"\n",
    "Assuming bacon has the list [3.14, 'cat,', 11, 'cat,', True], \n",
    "the value of bacon[:2] would be [3.14, 'cat,'].\n",
    "\n",
    "Here's the breakdown:\n",
    "\n",
    "Square brackets [] are used for slicing a list in Python.\n",
    "\n",
    ": separates the starting and ending indices (or omissions) for the slice.\n",
    "\n",
    ":2 specifies that we want a slice starting from the beginning (index 0, \n",
    "which is included) up to, but not including, index 2.\n",
    "\n",
    "\"\"\""
   ]
  },
  {
   "cell_type": "code",
   "execution_count": 9,
   "metadata": {},
   "outputs": [
    {
     "name": "stdout",
     "output_type": "stream",
     "text": [
      "1\n"
     ]
    }
   ],
   "source": [
    "#6. What is the value of bacon.index(&#39;cat&#39;)?\n",
    "\n",
    "\"\"\"\n",
    "The value of bacon.index('cat') is 1.\n",
    "\n",
    "This indicates that the first occurrence of 'cat,' is found at index 1 within \n",
    "the list bacon.\n",
    "\n",
    "\"\"\"\n",
    "#Example \n",
    "bacon = [3.14, 'cat,', 11, 'cat,', True]\n",
    "\n",
    "try:\n",
    "  # Attempt to find the index of 'cat,'\n",
    "  cat_index = bacon.index('cat,')\n",
    "  print(cat_index)  # Output: 1 (index of the first occurrence of 'cat,')\n",
    "except ValueError:\n",
    "  print(\"'cat,' not found in bacon list\")"
   ]
  },
  {
   "cell_type": "code",
   "execution_count": 10,
   "metadata": {},
   "outputs": [
    {
     "data": {
      "text/plain": [
       "\"\\nif the original bacon list was [3.14, 'cat,', 11, 'cat,', True], after \\nexecuting bacon.append(99), the new bacon list will become \\n[3.14, 'cat,', 11, 'cat,', True, 99]. The value 99 is appended to the end, \\ncreating a new list with the additional element.\\n\\nHere's a breakdown of what happens:\\n\\n1.bacon.append(99): This calls the append method on the list bacon. The append \\nmethod takes a single argument, which is the element you want to add to the \\nlist. In this case, we're adding the integer 99.\\n\\n2.Mutable Lists: Remember that Python lists are mutable, meaning their contents \\ncan be modified after creation. The append method modifies the original list \\nbacon in-place.\\n\\n3.Adding the Element: The append method adds the element 99 to the end of the \\nlist bacon.\\n\\n\\n\\n\""
      ]
     },
     "execution_count": 10,
     "metadata": {},
     "output_type": "execute_result"
    }
   ],
   "source": [
    "#7. How does bacon.append(99) change the look of the list value in bacon?\n",
    "\n",
    "\"\"\"\n",
    "if the original bacon list was [3.14, 'cat,', 11, 'cat,', True], after \n",
    "executing bacon.append(99), the new bacon list will become \n",
    "[3.14, 'cat,', 11, 'cat,', True, 99]. The value 99 is appended to the end, \n",
    "creating a new list with the additional element.\n",
    "\n",
    "Here's a breakdown of what happens:\n",
    "\n",
    "1.bacon.append(99): This calls the append method on the list bacon. The append \n",
    "method takes a single argument, which is the element you want to add to the \n",
    "list. In this case, we're adding the integer 99.\n",
    "\n",
    "2.Mutable Lists: Remember that Python lists are mutable, meaning their contents \n",
    "can be modified after creation. The append method modifies the original list \n",
    "bacon in-place.\n",
    "\n",
    "3.Adding the Element: The append method adds the element 99 to the end of the \n",
    "list bacon.\n",
    "\n",
    "\n",
    "\n",
    "\"\"\""
   ]
  },
  {
   "cell_type": "code",
   "execution_count": 11,
   "metadata": {},
   "outputs": [
    {
     "data": {
      "text/plain": [
       "\"\\n\\nThe bacon.remove('cat') line will modify the list bacon by removing the first \\noccurrence of the value 'cat,' from the list. \\n\\nHere's why:\\n\\nbacon.remove('cat'): This calls the remove method on the list bacon. \\nThe remove method takes an argument, which is the value you want to remove \\nfrom the list. In this case, we're trying to remove 'cat'.\\n\\nRemoving by Value, Not Index: Unlike del bacon[index], which removes the \\nelement at a specific index, remove searches for the value you provide and \\nremoves the first occurrence of that value.\\n\\nModification: If the value is found in the list, it's removed, and the list \\nis modified in-place. However, if the value is not found, a ValueError \\nexception is raised.\\n\\nAssuming the original bacon list is [3.14, 'cat,', 11, 'cat,', True]:\\n\\nThe method searches for the first occurrence of 'cat,'.\\nIt finds it at index 1.\\nIt removes the element at index 1, which is 'cat,'.\\n\\n\\nThe resulting list bacon will become [3.14, 11, 'cat,', True].\\n\\n\\nImportant Note: If bacon contained multiple occurrences of 'cat,', only the \\nfirst one would be removed using remove. \\n\\n\""
      ]
     },
     "execution_count": 11,
     "metadata": {},
     "output_type": "execute_result"
    }
   ],
   "source": [
    "#8. How does bacon.remove(&#39;cat&#39;) change the look of the list in bacon?\n",
    "\n",
    "\"\"\"\n",
    "\n",
    "The bacon.remove('cat') line will modify the list bacon by removing the first \n",
    "occurrence of the value 'cat,' from the list. \n",
    "\n",
    "Here's why:\n",
    "\n",
    "bacon.remove('cat'): This calls the remove method on the list bacon. \n",
    "The remove method takes an argument, which is the value you want to remove \n",
    "from the list. In this case, we're trying to remove 'cat'.\n",
    "\n",
    "Removing by Value, Not Index: Unlike del bacon[index], which removes the \n",
    "element at a specific index, remove searches for the value you provide and \n",
    "removes the first occurrence of that value.\n",
    "\n",
    "Modification: If the value is found in the list, it's removed, and the list \n",
    "is modified in-place. However, if the value is not found, a ValueError \n",
    "exception is raised.\n",
    "\n",
    "Assuming the original bacon list is [3.14, 'cat,', 11, 'cat,', True]:\n",
    "\n",
    "The method searches for the first occurrence of 'cat,'.\n",
    "It finds it at index 1.\n",
    "It removes the element at index 1, which is 'cat,'.\n",
    "\n",
    "\n",
    "The resulting list bacon will become [3.14, 11, 'cat,', True].\n",
    "\n",
    "\n",
    "Important Note: If bacon contained multiple occurrences of 'cat,', only the \n",
    "first one would be removed using remove. \n",
    "\n",
    "\"\"\""
   ]
  },
  {
   "cell_type": "code",
   "execution_count": 12,
   "metadata": {},
   "outputs": [
    {
     "name": "stdout",
     "output_type": "stream",
     "text": [
      "[1, 2, 3, 'a', 'b', 'c']\n",
      "[4, 8, 4, 8, 4, 8]\n"
     ]
    }
   ],
   "source": [
    "#9. What are the list concatenation and list replication operators?\n",
    "\n",
    "\"\"\"\n",
    "1. List Concatenation (+)\n",
    "\n",
    "The + operator is used to concatenate (join) two lists together. It creates a \n",
    "new list containing all the elements from both the original lists, with the \n",
    "elements from the left operand appearing first, followed by the elements from\n",
    "the right operand.\n",
    "\n",
    "\"\"\"\n",
    "#Example \n",
    "list1 = [1, 2, 3]\n",
    "list2 = ['a', 'b', 'c']\n",
    "\n",
    "combined_list = list1 + list2\n",
    "print(combined_list)  # Output: [1, 2, 3, 'a', 'b', 'c']\n",
    "\n",
    "\"\"\"\n",
    "2. List Replication (*)\n",
    "\n",
    "The * operator is used to replicate a list a specified number of times. \n",
    "It creates a new list by repeating the original list elements the specified \n",
    "number of times.\n",
    "\n",
    "\"\"\"\n",
    "#Example\n",
    "numbers = [4, 8]\n",
    "repeated_list = numbers * 3\n",
    "print(repeated_list)  # Output: [4, 8, 4, 8, 4, 8]\n"
   ]
  },
  {
   "cell_type": "code",
   "execution_count": 13,
   "metadata": {},
   "outputs": [
    {
     "data": {
      "text/plain": [
       "\"\\n1.append(element)\\n\\n*Adds a single element to the end of the list.\\n*Takes one argument, which is the element you want to add.\\n*It's generally faster (constant time complexity, O(1)) because no elements \\nneed to be shifted to make space for the new element.\\n\\n2.insert(index, element)\\n\\n*Inserts an element at a specific index within the list.\\n*Takes two arguments:\\n         The index at which you want to insert the element.\\n         The element you want to insert.\\n*It can be slower (linear time complexity, O(n)) in the worst case scenario, as elements might need to be shifted to accommodate the new element at the specified index.\\n\\n\""
      ]
     },
     "execution_count": 13,
     "metadata": {},
     "output_type": "execute_result"
    }
   ],
   "source": [
    "#10. What is difference between the list methods append() and insert()?\n",
    "\n",
    "\"\"\"\n",
    "1.append(element)\n",
    "\n",
    "*Adds a single element to the end of the list.\n",
    "*Takes one argument, which is the element you want to add.\n",
    "*It's generally faster (constant time complexity, O(1)) because no elements \n",
    "need to be shifted to make space for the new element.\\\n",
    "\n",
    "\n",
    "2.insert(index, element)\n",
    "\n",
    "*Inserts an element at a specific index within the list.\n",
    "*Takes two arguments:\n",
    "         The index at which you want to insert the element.\n",
    "         The element you want to insert.\n",
    "*It can be slower (linear time complexity, O(n)) in the worst case scenario, as elements might need to be shifted to accommodate the new element at the specified index.\n",
    "\n",
    "\"\"\""
   ]
  },
  {
   "cell_type": "code",
   "execution_count": 14,
   "metadata": {},
   "outputs": [
    {
     "data": {
      "text/plain": [
       "'\\n1.remove(value) method:\\n\\nThis method removes the first occurrence of a specific value from the list.\\nIt takes one argument, which is the value you want to remove.\\nIf the value is not found in the list, a ValueError exception is raised.\\n\\n\\ndel keyword:\\n\\nThe del keyword can be used for more versatile deletion operations on lists. \\n\\nHere are two common ways to use it for removal:\\n\\n   *Deleting by index: del list[index] removes the element at the specified \\n    index.\\n   *Deleting a slice: del list[start:end] removes a slice of elements from the\\n    list, starting at the start index (inclusive) and ending before the end \\n    index (exclusive).\\n\\n\\n'"
      ]
     },
     "execution_count": 14,
     "metadata": {},
     "output_type": "execute_result"
    }
   ],
   "source": [
    "#11. What are the two methods for removing items from a list?\n",
    "\n",
    "\"\"\"\n",
    "1.remove(value) method:\n",
    "\n",
    "This method removes the first occurrence of a specific value from the list.\n",
    "It takes one argument, which is the value you want to remove.\n",
    "If the value is not found in the list, a ValueError exception is raised.\n",
    "\n",
    "\n",
    "del keyword:\n",
    "\n",
    "The del keyword can be used for more versatile deletion operations on lists. \n",
    "\n",
    "Here are two common ways to use it for removal:\n",
    "\n",
    "   *Deleting by index: del list[index] removes the element at the specified \n",
    "    index.\n",
    "   *Deleting a slice: del list[start:end] removes a slice of elements from the\n",
    "    list, starting at the start index (inclusive) and ending before the end \n",
    "    index (exclusive).\n",
    "\n",
    "\n",
    "\"\"\""
   ]
  },
  {
   "cell_type": "code",
   "execution_count": 15,
   "metadata": {},
   "outputs": [
    {
     "name": "stdout",
     "output_type": "stream",
     "text": [
      "True\n"
     ]
    },
    {
     "data": {
      "text/plain": [
       "'HELLO'"
      ]
     },
     "execution_count": 15,
     "metadata": {},
     "output_type": "execute_result"
    }
   ],
   "source": [
    "#12. Describe how list values and string values are identical.\n",
    "\"\"\"\n",
    "list values and string values are fundamentally different data types, \n",
    "although there might be some superficial similarities in certain situations. \n",
    "\n",
    "Here's a breakdown of the key differences:\n",
    "\n",
    "1. Mutability:\n",
    "\n",
    "Lists: Lists are mutable, meaning their contents can be changed after creation.\n",
    "You can add, remove, or modify elements within a list.\n",
    "\n",
    "Strings: Strings are immutable, meaning their contents cannot be changed after \n",
    "creation. Any attempt to modify a string will result in a new string being \n",
    "created.\n",
    "\n",
    "\n",
    "2. Data Types of Elements:\n",
    "\n",
    "Lists: Lists can hold a collection of elements of various data types. \n",
    "This means a list can contain integers, floats, strings, booleans, or even \n",
    "other lists within it, creating nested structures.\n",
    "\n",
    "Strings: Strings can only hold a sequence of characters. Each character in a \n",
    "string has a specific Unicode code point.\n",
    "\n",
    "\n",
    "3. Order:\n",
    "\n",
    "Lists: The order of elements in a list is important. Accessing elements is \n",
    "done using their index position, and the order you add elements in is the \n",
    "order they are stored.\n",
    "\n",
    "Strings: The order of characters in a string is important. The meaning of a \n",
    "string can change if the order of characters is scrambled.\n",
    "\n",
    "4.Superficial Similarities:\n",
    "\n",
    "Despite these differences, there can be some superficial similarities in \n",
    "certain cases:\n",
    "\n",
    "Single-element lists: A list containing a single element of type string can \n",
    "appear similar to a string value. However, you can't access the character \n",
    "within the list using string indexing methods.\n",
    "\n",
    "\"\"\"\n",
    "#Example\n",
    "\n",
    "my_string = \"hello\"\n",
    "my_list = [\"hello\"]\n",
    "\n",
    "# Similarities: Both can hold the same characters\n",
    "print(my_string == my_list[0])  # Output: True (for value comparison)\n",
    "\n",
    "# Differences: String methods vs. list methods\n",
    "my_string.upper()  # Valid string method to uppercase\n",
    "# my_list[0].upper()  # TypeError: 'str' object has no attribute 'upper' (cannot modify list element this way)\n"
   ]
  },
  {
   "cell_type": "code",
   "execution_count": 16,
   "metadata": {},
   "outputs": [
    {
     "data": {
      "text/plain": [
       "\"\\n1.Lists (Mutable):\\n\\nLists are mutable, meaning their contents can be changed after creation. \\nYou can add, remove, or modify elements within a list using methods like \\nappend(), insert(), remove(), and del.\\n\\nThis flexibility makes lists ideal for situations where you need to dynamically\\nmodify the data you're storing.\\n\\n\\n2.Tuples (Immutable):\\n\\nTuples are immutable, meaning their contents cannot be changed after creation. \\nOnce you create a tuple, you cannot add, remove, or modify elements within it.\\n\\nThis immutability ensures data integrity and makes tuples useful for\\nrepresenting fixed collections or data that shouldn't be accidentally \\nmodified.\\n\\n\\n\""
      ]
     },
     "execution_count": 16,
     "metadata": {},
     "output_type": "execute_result"
    }
   ],
   "source": [
    "#13. What's the difference between tuples and lists?\n",
    "\n",
    "\"\"\"\n",
    "1.Lists (Mutable):\n",
    "\n",
    "Lists are mutable, meaning their contents can be changed after creation. \n",
    "You can add, remove, or modify elements within a list using methods like \n",
    "append(), insert(), remove(), and del.\n",
    "\n",
    "This flexibility makes lists ideal for situations where you need to dynamically\n",
    "modify the data you're storing.\n",
    "\n",
    "\n",
    "2.Tuples (Immutable):\n",
    "\n",
    "Tuples are immutable, meaning their contents cannot be changed after creation. \n",
    "Once you create a tuple, you cannot add, remove, or modify elements within it.\n",
    "\n",
    "This immutability ensures data integrity and makes tuples useful for\n",
    "representing fixed collections or data that shouldn't be accidentally \n",
    "modified.\n",
    "\n",
    "\n",
    "\"\"\""
   ]
  },
  {
   "cell_type": "code",
   "execution_count": null,
   "metadata": {},
   "outputs": [],
   "source": []
  },
  {
   "cell_type": "code",
   "execution_count": 17,
   "metadata": {},
   "outputs": [
    {
     "data": {
      "text/plain": [
       "'\\nThere are two ways to create a tuple containing only the integer 42 in Python:\\n\\n1. Single element with a comma:\\n\\n\\nmy_tuple = 42,  # Comma after the element is crucial\\n\\nHere, the comma after the 42 is essential. Without the comma, \\nPython would interpret it as a single integer value, not a tuple.\\n\\n2. Using parentheses:\\n\\nPython\\nmy_tuple = (42,)\\n\\nIn this approach, you explicitly enclose the element within parentheses (), \\nfollowed by a comma. This clearly defines it as a one-element tuple.\\n\\n\\n'"
      ]
     },
     "execution_count": 17,
     "metadata": {},
     "output_type": "execute_result"
    }
   ],
   "source": [
    "#14. How do you type a tuple value that only contains the integer 42?\n",
    "\n",
    "\"\"\"\n",
    "There are two ways to create a tuple containing only the integer 42 in Python:\n",
    "\n",
    "1. Single element with a comma:\n",
    "\n",
    "\n",
    "my_tuple = 42,  # Comma after the element is crucial\n",
    "\n",
    "Here, the comma after the 42 is essential. Without the comma, \n",
    "Python would interpret it as a single integer value, not a tuple.\n",
    "\n",
    "2. Using parentheses:\n",
    "\n",
    "Python\n",
    "my_tuple = (42,)\n",
    "\n",
    "In this approach, you explicitly enclose the element within parentheses (), \n",
    "followed by a comma. This clearly defines it as a one-element tuple.\n",
    "\n",
    "\n",
    "\"\"\""
   ]
  },
  {
   "cell_type": "code",
   "execution_count": 18,
   "metadata": {},
   "outputs": [
    {
     "name": "stdout",
     "output_type": "stream",
     "text": [
      "(1, 'hello', 3.14)\n",
      "[4, 'world', True]\n"
     ]
    }
   ],
   "source": [
    "\"\"\"\n",
    "Question 15. How do you get a list value's tuple form? How do you get a \n",
    "tuples value's list form?\n",
    "\"\"\"\n",
    "#Answer \n",
    "\n",
    "\"\"\"\n",
    "1.Converting Lists to Tuples:\n",
    "\n",
    "You can use the built-in tuple() function to create a tuple from a list. \n",
    "This function takes an iterable (like a list) as input and returns a new tuple\n",
    "containing the elements from the original list.\n",
    "\n",
    "\"\"\"\n",
    "#Example \n",
    "my_list = [1, \"hello\", 3.14]\n",
    "my_tuple = tuple(my_list)\n",
    "\n",
    "print(my_tuple)  # Output: (1, 'hello', 3.14)\n",
    "\n",
    "\"\"\"\n",
    "2.Converting Tuples to Lists:\n",
    "\n",
    "To convert a tuple to a list, you can use the built-in list() function. \n",
    "Similar to tuple(), it takes an iterable (like a tuple) as input and returns \n",
    "a new list containing the elements from the original tuple.\n",
    "\n",
    "\"\"\"\n",
    "#Example \n",
    "\n",
    "my_tuple = (4, 'world', True)\n",
    "my_list = list(my_tuple)\n",
    "\n",
    "print(my_list)  # Output: [4, 'world', True]\n"
   ]
  },
  {
   "cell_type": "code",
   "execution_count": 19,
   "metadata": {},
   "outputs": [
    {
     "data": {
      "text/plain": [
       "'\\n\\nVariables that appear to \"contain\" list values in Python don\\'t hold the \\nentire list data themselves. Instead, they store references to the actual \\nlist object located elsewhere in memory.\\n\\nHere\\'s a deeper look at the concept:\\n\\n*List Object: When you create a list using square brackets [], Python allocates\\nmemory space to store the list\\'s elements (numbers, strings, etc.). \\nThis memory location holds the actual data that makes up the list.\\n\\n*Variable Reference: Assigning a list to a variable doesn\\'t copy the entire \\nlist into the variable. Instead, Python creates a variable in your program\\'s \\nmemory that stores the memory address (or reference) of the list object \\ncreated in step 1.\\n\\n'"
      ]
     },
     "execution_count": 19,
     "metadata": {},
     "output_type": "execute_result"
    }
   ],
   "source": [
    "\"\"\"\n",
    "16. Variables that \"contain\" list values are not necessarily lists themselves. \n",
    "Instead, what do they contain?\n",
    "\n",
    "\"\"\"\n",
    "#Answer \n",
    "\n",
    "\"\"\"\n",
    "\n",
    "Variables that appear to \"contain\" list values in Python don't hold the \n",
    "entire list data themselves. Instead, they store references to the actual \n",
    "list object located elsewhere in memory.\n",
    "\n",
    "Here's a deeper look at the concept:\n",
    "\n",
    "*List Object: When you create a list using square brackets [], Python allocates\n",
    "memory space to store the list's elements (numbers, strings, etc.). \n",
    "This memory location holds the actual data that makes up the list.\n",
    "\n",
    "*Variable Reference: Assigning a list to a variable doesn't copy the entire \n",
    "list into the variable. Instead, Python creates a variable in your program's \n",
    "memory that stores the memory address (or reference) of the list object \n",
    "created in step 1.\n",
    "\n",
    "\"\"\""
   ]
  },
  {
   "cell_type": "code",
   "execution_count": null,
   "metadata": {},
   "outputs": [],
   "source": [
    "#17. How do you distinguish between copy.copy() and copy.deepcopy()?\n",
    "\n",
    "\"\"\"\n",
    "1.copy.copy() (Shallow Copy):\n",
    "\n",
    "Creates a new object with a reference to the same elements as the original \n",
    "object.\n",
    "\n",
    "This means changes made to the copy will also affect the original object, and \n",
    "vice versa, since they both point to the same underlying data.\n",
    "\n",
    "It's generally faster because it involves less memory allocation (only \n",
    "references are copied).\n",
    "\n",
    "Suitable for copying immutable objects (like strings, numbers) or when you \n",
    "only need a surface-level copy of a mutable object (like a list containing \n",
    "simple values).\n",
    "\n",
    "\"\"\"\n",
    "#Example \n",
    "import copy\n",
    "\n",
    "my_list = [1, 2, [3, 4]]  # Nested list\n",
    "\n",
    "shallow_copy = copy.copy(my_list)\n",
    "\n",
    "shallow_copy[0] = 10  # Modify the copy\n",
    "print(my_list)  # Output: [10, 2, [3, 4]] (Original list also modified)\n",
    "\n",
    "shallow_copy[2][0] = 99  # Modify the nested list within the copy\n",
    "print(my_list)  # Output: [10, 2, [99, 4]] (Original list also modified)\n",
    "\n",
    "\"\"\"\n",
    "2.copy.deepcopy() (Deep Copy):\n",
    "\n",
    "Creates a new object with independent copies of all elements within the \n",
    "original object, even if they are nested objects.\n",
    "\n",
    "Modifications made to the copy do not affect the original object, and vice \n",
    "versa, because they have separate copies of the data.\n",
    "\n",
    "It's generally slower than copy.copy() due to the recursive copying process \n",
    "involved.\n",
    "\n",
    "Ideal for copying mutable objects (like lists, dictionaries) containing other \n",
    "mutable objects, to ensure complete independence.\n",
    "\n",
    "\"\"\"\n",
    "#Example \n",
    "import copy\n",
    "\n",
    "my_list = [1, 2, [3, 4]]  # Nested list\n",
    "\n",
    "deep_copy = copy.deepcopy(my_list)\n",
    "\n",
    "deep_copy[0] = 100  # Modify the copy\n",
    "print(my_list)  # Output: [1, 2, [3, 4]] (Original list remains unchanged)\n",
    "\n",
    "deep_copy[2][0] = 55  # Modify the nested list within the copy\n",
    "print(my_list)  # Output: [1, 2, [3, 4]] (Original list remains unchanged)\n"
   ]
  }
 ],
 "metadata": {
  "kernelspec": {
   "display_name": "Python 3",
   "language": "python",
   "name": "python3"
  },
  "language_info": {
   "codemirror_mode": {
    "name": "ipython",
    "version": 3
   },
   "file_extension": ".py",
   "mimetype": "text/x-python",
   "name": "python",
   "nbconvert_exporter": "python",
   "pygments_lexer": "ipython3",
   "version": "3.11.9"
  }
 },
 "nbformat": 4,
 "nbformat_minor": 2
}
