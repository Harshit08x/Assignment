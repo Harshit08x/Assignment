{
 "cells": [
  {
   "cell_type": "code",
   "execution_count": 2,
   "metadata": {},
   "outputs": [],
   "source": [
    "#python basic assignment \n",
    "#assignment submitted by Harshit Agrahari date :- 21may 2024\n",
    "\n",
    "\n"
   ]
  },
  {
   "cell_type": "code",
   "execution_count": 3,
   "metadata": {},
   "outputs": [
    {
     "data": {
      "text/plain": [
       "\"\\nValues:\\n\\n'hello' (string) - A sequence of characters enclosed in single quotes.\\n-87.8 (floating-point number) - A number with a decimal point.\\n6 (integer) - A whole number.\\n\\nExpressions:\\n\\n* (multiplication operator) - Used to multiply values.\\n- (subtraction operator) - Used to subtract values.\\n/ (division operator) - Used to divide values.\\n+ (addition operator) - Used to add values.\\n\\n\""
      ]
     },
     "execution_count": 3,
     "metadata": {},
     "output_type": "execute_result"
    }
   ],
   "source": [
    "\"\"\"\n",
    "Question 1.In the below elements which of them are values or an expression? eg:- values can be\n",
    "integer or string and expressions will be mathematical operators.\n",
    "*\n",
    "\"hello\"\n",
    "-87.8\n",
    "-\n",
    "/\n",
    "+\n",
    "6\n",
    "\n",
    "\"\"\"\n",
    "#Answer\n",
    "\n",
    "\"\"\"\n",
    "Values:\n",
    "\n",
    "'hello' (string) - A sequence of characters enclosed in single quotes.\n",
    "-87.8 (floating-point number) - A number with a decimal point.\n",
    "6 (integer) - A whole number.\n",
    "\n",
    "Expressions:\n",
    "\n",
    "* (multiplication operator) - Used to multiply values.\n",
    "- (subtraction operator) - Used to subtract values.\n",
    "/ (division operator) - Used to divide values.\n",
    "+ (addition operator) - Used to add values.\n",
    "\n",
    "\"\"\"\n",
    "\n",
    "\n"
   ]
  },
  {
   "cell_type": "code",
   "execution_count": 4,
   "metadata": {},
   "outputs": [
    {
     "data": {
      "text/plain": [
       "'\\n1.String:\\n\\nA sequence of characters enclosed in single quotes (\\') or double quotes (\"). \\n\\nIt represents a fixed piece of text data.\\n\\nOnce created, a string\\'s content cannot be changed (immutable).\\n\\nExamples: \\'hello world\\', \"This is a string.\", \\'100\\' (though it contains \\nnumbers, it\\'s treated as text).\\n\\n\\n2.Variable:\\n\\nA named storage location that can hold a value (including a string, number, \\nor other data type).\\n\\nYou can assign a value to a variable using the assignment operator (=).\\n\\nThe variable\\'s name acts as a label (like a tag) to refer to that value \\nthroughout your code.\\n\\nVariables are mutable, meaning you can change the value they hold later in \\nyour program.\\n\\nExample: name = \\'Alice\\' (assigns the string \\'Alice\\' to the variable name). You can later modify name to hold a different string.\\n\\n'"
      ]
     },
     "execution_count": 4,
     "metadata": {},
     "output_type": "execute_result"
    }
   ],
   "source": [
    "# 2. What is the difference between string and variable?\n",
    "\n",
    "\"\"\"\n",
    "1.String:\n",
    "\n",
    "A sequence of characters enclosed in single quotes (') or double quotes (\"). \n",
    "\n",
    "It represents a fixed piece of text data.\n",
    "\n",
    "Once created, a string's content cannot be changed (immutable).\n",
    "\n",
    "Examples: 'hello world', \"This is a string.\", '100' (though it contains \n",
    "numbers, it's treated as text).\n",
    "\n",
    "\n",
    "2.Variable:\n",
    "\n",
    "A named storage location that can hold a value (including a string, number, \n",
    "or other data type).\n",
    "\n",
    "You can assign a value to a variable using the assignment operator (=).\n",
    "\n",
    "The variable's name acts as a label (like a tag) to refer to that value \n",
    "throughout your code.\n",
    "\n",
    "Variables are mutable, meaning you can change the value they hold later in \n",
    "your program.\n",
    "\n",
    "Example: name = 'Alice' (assigns the string 'Alice' to the variable name). You can later modify name to hold a different string.\n",
    "\n",
    "\"\"\""
   ]
  },
  {
   "cell_type": "code",
   "execution_count": 5,
   "metadata": {},
   "outputs": [
    {
     "data": {
      "text/plain": [
       "'\\n1.Integer (int):\\n\\nRepresents whole numbers, positive, negative, or zero.\\n\\nExamples: 10, -50, 0, 1234567890\\n\\nUsed for counting, numerical calculations involving whole numbers, \\nand indexing elements in sequences (like lists).\\n\\n2.Float (float):\\n\\nRepresents numbers with decimal points.\\n\\nExamples: 3.14159, -12.5, 1.0 (represents one, not an integer)\\nUsed for calculations involving decimals, scientific measurements, financial \\ndata, etc.\\n\\n3.String (str):\\n\\nRepresents sequences of characters, enclosed in single (\\') or double (\") \\nquotes.\\n\\nExamples: \"Hello, world!\", \\'This is a string.\\', \\'100\\' (treated as text, not \\na number)\\n\\nUsed for text data, names, labels, messages, and any user input involving \\ncharacters.\\n\\n'"
      ]
     },
     "execution_count": 5,
     "metadata": {},
     "output_type": "execute_result"
    }
   ],
   "source": [
    "#3. Describe three different data types.\n",
    "\"\"\"\n",
    "1.Integer (int):\n",
    "\n",
    "Represents whole numbers, positive, negative, or zero.\n",
    "\n",
    "Examples: 10, -50, 0, 1234567890\n",
    "\n",
    "Used for counting, numerical calculations involving whole numbers, \n",
    "and indexing elements in sequences (like lists).\n",
    "\n",
    "2.Float (float):\n",
    "\n",
    "Represents numbers with decimal points.\n",
    "\n",
    "Examples: 3.14159, -12.5, 1.0 (represents one, not an integer)\n",
    "Used for calculations involving decimals, scientific measurements, financial \n",
    "data, etc.\n",
    "\n",
    "3.String (str):\n",
    "\n",
    "Represents sequences of characters, enclosed in single (') or double (\") \n",
    "quotes.\n",
    "\n",
    "Examples: \"Hello, world!\", 'This is a string.', '100' (treated as text, not \n",
    "a number)\n",
    "\n",
    "Used for text data, names, labels, messages, and any user input involving \n",
    "characters.\n",
    "\n",
    "\"\"\""
   ]
  },
  {
   "cell_type": "code",
   "execution_count": 6,
   "metadata": {},
   "outputs": [
    {
     "data": {
      "text/plain": [
       "'\\nAn expression is a combination of elements that evaluates to a single value.\\n\\nHere\\'s what expressions are made up of:\\n\\n1.Values: These can be integers (whole numbers), floats (numbers with decimals), \\nstrings (sequences of characters in quotes), booleans (True or False), or even \\nother expressions nested within parentheses. \\n\\nFor example: 5, 3.14, \"hello\", True, (2 + 3).\\n\\n2.Variables: These are named storage locations that hold values. \\nExpressions can use variable names to refer to the values stored in those \\nvariables. \\n\\nFor example, if x = 10, then x in the expression x + 5 would be replaced with \\nits value (10).\\n\\n3.Operators: These are symbols that perform operations on values. \\n\\nFor example :Common operators include arithmetic operators (+, -, *, /), comparison \\noperators (==, !=, <, >, <=, >=), logical operators (and, or, not), and \\nothers specific to different data types.\\n\\n\\nHere are some examples of expressions and their results:\\n\\n2 + 3 (arithmetic expression) evaluates to 5 (integer).\\n\\n\"hello\"+\" world\" (string concatenation) evaluates to \"helloworld\" (string).\\n\\n\\n'"
      ]
     },
     "execution_count": 6,
     "metadata": {},
     "output_type": "execute_result"
    }
   ],
   "source": [
    "#4. What is an expression made up of? What do all expressions do?\n",
    "\"\"\"\n",
    "An expression is a combination of elements that evaluates to a single value.\n",
    "\n",
    "Here's what expressions are made up of:\n",
    "\n",
    "1.Values: These can be integers (whole numbers), floats (numbers with decimals), \n",
    "strings (sequences of characters in quotes), booleans (True or False), or even \n",
    "other expressions nested within parentheses. \n",
    "\n",
    "For example: 5, 3.14, \"hello\", True, (2 + 3).\n",
    "\n",
    "2.Variables: These are named storage locations that hold values. \n",
    "Expressions can use variable names to refer to the values stored in those \n",
    "variables. \n",
    "\n",
    "For example, if x = 10, then x in the expression x + 5 would be replaced with \n",
    "its value (10).\n",
    "\n",
    "3.Operators: These are symbols that perform operations on values. \n",
    "\n",
    "For example :Common operators include arithmetic operators (+, -, *, /), comparison \n",
    "operators (==, !=, <, >, <=, >=), logical operators (and, or, not), and \n",
    "others specific to different data types.\n",
    "\n",
    "\n",
    "Here are some examples of expressions and their results:\n",
    "\n",
    "2 + 3 (arithmetic expression) evaluates to 5 (integer).\n",
    "\n",
    "\"hello\"+\" world\" (string concatenation) evaluates to \"helloworld\" (string).\n",
    "\n",
    "\n",
    "\"\"\""
   ]
  },
  {
   "cell_type": "code",
   "execution_count": 7,
   "metadata": {},
   "outputs": [
    {
     "data": {
      "text/plain": [
       "'\\n1.Expression:\\n\\nA combination of values, variables, and operators that evaluates to a single value.\\n\\nDoes not directly change the state of your program (i.e., the values stored in variables).\\n\\nUsed on the right side of assignment statements, in function calls to provide arguments, \\nor anywhere a single value is needed.\\n\\n2.Statement:\\n\\nA complete instruction that tells Python to perform an action. \\n\\nThis action can include:\\n\\nAssigning a value to a variable (using the assignment operator =).\\nPrinting a value to the console (using the print function).\\nControlling the flow of your program with conditional statements \\n(like if, else) and loops (like for, while).\\n\\n\\nIn the example spam = 10:\\n\\nThe expression on the right side (10) evaluates to the integer value 10.\\n\\nThe assignment statement (spam = ...) uses this value to create a new \\nvariable named spam and assign the value 10 to it.\\n\\n'"
      ]
     },
     "execution_count": 7,
     "metadata": {},
     "output_type": "execute_result"
    }
   ],
   "source": [
    "\"\"\"\n",
    "Question 5. This assignment statements, like spam = 10. What is the difference between an\n",
    "expression and a statement?\n",
    "\"\"\"\n",
    "\"\"\"\n",
    "1.Expression:\n",
    "\n",
    "A combination of values, variables, and operators that evaluates to a single value.\n",
    "\n",
    "Does not directly change the state of your program (i.e., the values stored in variables).\n",
    "\n",
    "Used on the right side of assignment statements, in function calls to provide arguments, \n",
    "or anywhere a single value is needed.\n",
    "\n",
    "2.Statement:\n",
    "\n",
    "A complete instruction that tells Python to perform an action. \n",
    "\n",
    "This action can include:\n",
    "\n",
    "Assigning a value to a variable (using the assignment operator =).\n",
    "Printing a value to the console (using the print function).\n",
    "Controlling the flow of your program with conditional statements \n",
    "(like if, else) and loops (like for, while).\n",
    "\n",
    "\n",
    "In the example spam = 10:\n",
    "\n",
    "The expression on the right side (10) evaluates to the integer value 10.\n",
    "\n",
    "The assignment statement (spam = ...) uses this value to create a new \n",
    "variable named spam and assign the value 10 to it.\n",
    "\n",
    "\"\"\"\n"
   ]
  },
  {
   "cell_type": "code",
   "execution_count": 8,
   "metadata": {},
   "outputs": [
    {
     "data": {
      "text/plain": [
       "\"\\nAfter running the code bacon = 22; bacon + 1, the variable bacon will still \\ncontain the value 22.\\n\\nHere's why:\\n\\n1.bacon = 22: This line is an assignment statement. It creates a variable named \\nbacon and assigns the integer value 22 to it.\\n\\n2.bacon + 1: This line is an expression. It evaluates to 23, which is the sum \\nof bacon (which is currently 22) and 1. However, this expression is not used \\nin an assignment statement. It simply calculates the value but doesn't modify\\nthe original value stored in bacon.\\n\\n\""
      ]
     },
     "execution_count": 8,
     "metadata": {},
     "output_type": "execute_result"
    }
   ],
   "source": [
    "#6. After running the following code, what does the variable bacon contain?\n",
    "# bacon = 22\n",
    "#bacon + 1 \n",
    "\n",
    "\"\"\"\n",
    "After running the code bacon = 22; bacon + 1, the variable bacon will still \n",
    "contain the value 22.\n",
    "\n",
    "Here's why:\n",
    "\n",
    "1.bacon = 22: This line is an assignment statement. It creates a variable named \n",
    "bacon and assigns the integer value 22 to it.\n",
    "\n",
    "2.bacon + 1: This line is an expression. It evaluates to 23, which is the sum \n",
    "of bacon (which is currently 22) and 1. However, this expression is not used \n",
    "in an assignment statement. It simply calculates the value but doesn't modify\n",
    "the original value stored in bacon.\n",
    "\n",
    "\"\"\""
   ]
  },
  {
   "cell_type": "code",
   "execution_count": 9,
   "metadata": {},
   "outputs": [
    {
     "data": {
      "text/plain": [
       "'\\nspam + spamspam: This would evaluate to \"spamspamspam\".\\n\\nThe + operator is used for string concatenation when working with strings.\\nIn this case, it joins the strings \"spam\" and \"spamspam\" together, resulting \\nin the combined string \"spamspamspam\".\\n\\n\\nspam * 3: This would evaluate to \"spamspamspam\".\\n\\nThe * operator is used for string repetition when working with strings.\\nHere, it repeats the string \"spam\" three times, resulting in \"spamspamspam\".\\n\\n'"
      ]
     },
     "execution_count": 9,
     "metadata": {},
     "output_type": "execute_result"
    }
   ],
   "source": [
    "#7. What should the values of the following two terms be?\n",
    "#spam + spamspam\n",
    "#spam * 3\n",
    "\n",
    "\"\"\"\n",
    "spam + spamspam: This would evaluate to \"spamspamspam\".\n",
    "\n",
    "The + operator is used for string concatenation when working with strings.\n",
    "In this case, it joins the strings \"spam\" and \"spamspam\" together, resulting \n",
    "in the combined string \"spamspamspam\".\n",
    "\n",
    "\n",
    "spam * 3: This would evaluate to \"spamspamspam\".\n",
    "\n",
    "The * operator is used for string repetition when working with strings.\n",
    "Here, it repeats the string \"spam\" three times, resulting in \"spamspamspam\".\n",
    "\n",
    "\"\"\""
   ]
  },
  {
   "cell_type": "code",
   "execution_count": 10,
   "metadata": {},
   "outputs": [
    {
     "data": {
      "text/plain": [
       "\"\\nHere reason why egg is valid variable while 100 is not  \\n\\n1.Valid Variable Names (eggs):\\n\\nMust start with a letter (a-z or A-Z) or an underscore (_).\\n\\nCan contain letters, numbers, and underscores.\\n\\nCase-sensitive (e.g., eggs and Eggs are different variables).\\n\\n\\n2.Invalid Variable Names (100):\\n\\nCannot start with a number.\\n\\nCan't contain spaces or special characters (other than underscore).\\n\\n\""
      ]
     },
     "execution_count": 10,
     "metadata": {},
     "output_type": "execute_result"
    }
   ],
   "source": [
    "#8. Why is eggs a valid variable name while 100 is invalid?\n",
    "\"\"\"\n",
    "Here reason why egg is valid variable while 100 is not  \n",
    "\n",
    "1.Valid Variable Names (eggs):\n",
    "\n",
    "Must start with a letter (a-z or A-Z) or an underscore (_).\n",
    "\n",
    "Can contain letters, numbers, and underscores.\n",
    "\n",
    "Case-sensitive (e.g., eggs and Eggs are different variables).\n",
    "\n",
    "\n",
    "2.Invalid Variable Names (100):\n",
    "\n",
    "Cannot start with a number.\n",
    "\n",
    "Can't contain spaces or special characters (other than underscore).\n",
    "\n",
    "\"\"\""
   ]
  },
  {
   "cell_type": "code",
   "execution_count": 11,
   "metadata": {},
   "outputs": [
    {
     "data": {
      "text/plain": [
       "'\\n1.int(x): This function attempts to convert the value x to an integer.\\n\\nIf x is already an integer, it returns the same value.\\n\\nIf x is a float or a string that can be reasonably converted to an integer \\n(e.g., \"10\"), it returns the integer equivalent.\\n\\nIf conversion is not possible (e.g., \"hello\"), it raises a ValueError.\\n\\n2.float(x): This function attempts to convert the value x to a floating-point \\nnumber.\\n\\nIf x is already a float, it returns the same value.\\n\\nIf x is an integer or a string that can be reasonably converted to a float \\n(e.g., \"3.14\"), it returns the floating-point equivalent.\\n\\nIf conversion is not possible (e.g., \"true\"), it raises a ValueError.\\n\\n3.str(x): This function converts the value x to a string representation.\\n\\nIt can convert most data types (integers, floats, booleans, lists, etc.) \\nto strings.\\n\\n'"
      ]
     },
     "execution_count": 11,
     "metadata": {},
     "output_type": "execute_result"
    }
   ],
   "source": [
    "\"\"\"\n",
    "Question 9. What three functions can be used to get the integer, \n",
    "floating-point number, or string version of a value?\n",
    "\n",
    "\"\"\"\n",
    "#Answer \n",
    "\n",
    "\"\"\"\n",
    "1.int(x): \n",
    "This function attempts to convert the value x to an integer.\n",
    "\n",
    "If x is already an integer, it returns the same value.\n",
    "\n",
    "If x is a float or a string that can be reasonably converted to an integer \n",
    "(e.g., \"10\"), it returns the integer equivalent.\n",
    "\n",
    "If conversion is not possible (e.g., \"hello\"), it raises a ValueError.\n",
    "\n",
    "2.float(x): \n",
    "This function attempts to convert the value x to a floating-point \n",
    "number.\n",
    "\n",
    "If x is already a float, it returns the same value.\n",
    "\n",
    "If x is an integer or a string that can be reasonably converted to a float \n",
    "(e.g., \"3.14\"), it returns the floating-point equivalent.\n",
    "\n",
    "If conversion is not possible (e.g., \"true\"), it raises a ValueError.\n",
    "\n",
    "3.str(x): \n",
    "This function converts the value x to a string representation.\n",
    "\n",
    "It can convert most data types (integers, floats, booleans, lists, etc.) \n",
    "to strings.\n",
    "\n",
    "\"\"\""
   ]
  },
  {
   "cell_type": "code",
   "execution_count": null,
   "metadata": {},
   "outputs": [],
   "source": [
    "\"\"\"\n",
    "Question 10. Why does this expression cause an error? How can you fix it?\n",
    "\n",
    "'I have eaten'  + 99 +  'burritos'.\n",
    "\n",
    "\"\"\"\n",
    "# Answer \n",
    "print(\"I have eaten \" + str(99) + \" burritos.\")\n"
   ]
  }
 ],
 "metadata": {
  "kernelspec": {
   "display_name": "Python 3",
   "language": "python",
   "name": "python3"
  },
  "language_info": {
   "codemirror_mode": {
    "name": "ipython",
    "version": 3
   },
   "file_extension": ".py",
   "mimetype": "text/x-python",
   "name": "python",
   "nbconvert_exporter": "python",
   "pygments_lexer": "ipython3",
   "version": "3.11.9"
  }
 },
 "nbformat": 4,
 "nbformat_minor": 2
}
