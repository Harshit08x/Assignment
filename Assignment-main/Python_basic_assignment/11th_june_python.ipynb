{
 "cells": [
  {
   "cell_type": "code",
   "execution_count": 1,
   "metadata": {},
   "outputs": [
    {
     "data": {
      "text/plain": [
       "'\\nA lambda function in Python is a small, anonymous function that can be defined \\nusing the lambda keyword.\\n\\nSyntax:\\n Lambda functions are defined using the lambda keyword, followed by a list of \\n arguments, a colon, and an expression.\\n\\n Regular functions are defined using the def keyword, followed by a function \\n name, a list of parameters in parentheses, a colon, and a block of code.\\n\\nBody:\\n Lambda functions have a single expression as their body. This expression is \\n evaluated and returned when the lambda function is called.\\n \\n Regular functions can have multiple statements in their body, including loops,\\n conditionals, and other function calls.\\n\\nReturn Value:\\n Lambda functions automatically return the value of the expression they evaluate\\n \\n Regular functions require an explicit return statement to specify the value to \\n be returned.\\n\\nCODE:\\n\\n square = lambda x: x ** 2\\n print(square(5))  # Output: 25 #lambda\\n\\n\\n def square(x):\\n     return x ** 2\\n\\n print(square(5))  # Output: 25 #regular\\n\\n'"
      ]
     },
     "execution_count": 1,
     "metadata": {},
     "output_type": "execute_result"
    }
   ],
   "source": [
    "#Assignment submitted by Harshit Agrahari Date :-  22 May 2024\n",
    "\n",
    "\"\"\"\n",
    "1. What is a lambda function in Python, and how does it differ from a regular \n",
    "function?\n",
    "\n",
    "\"\"\"\n",
    "#ANSWER\n",
    "\n",
    "\"\"\"\n",
    "A lambda function in Python is a small, anonymous function that can be defined \n",
    "using the lambda keyword.\n",
    "\n",
    "Syntax:\n",
    " Lambda functions are defined using the lambda keyword, followed by a list of \n",
    " arguments, a colon, and an expression.\n",
    "\n",
    " Regular functions are defined using the def keyword, followed by a function \n",
    " name, a list of parameters in parentheses, a colon, and a block of code.\n",
    "\n",
    "Body:\n",
    " Lambda functions have a single expression as their body. This expression is \n",
    " evaluated and returned when the lambda function is called.\n",
    " \n",
    " Regular functions can have multiple statements in their body, including loops,\n",
    " conditionals, and other function calls.\n",
    "\n",
    "Return Value:\n",
    " Lambda functions automatically return the value of the expression they evaluate\n",
    " \n",
    " Regular functions require an explicit return statement to specify the value to \n",
    " be returned.\n",
    "\n",
    "CODE:\n",
    "\n",
    " square = lambda x: x ** 2\n",
    " print(square(5))  # Output: 25 #lambda\n",
    "\n",
    "\n",
    " def square(x):\n",
    "     return x ** 2\n",
    "\n",
    " print(square(5))  # Output: 25 #regular\n",
    "\n",
    "\"\"\"\n",
    "\n"
   ]
  },
  {
   "cell_type": "code",
   "execution_count": 2,
   "metadata": {},
   "outputs": [
    {
     "name": "stdout",
     "output_type": "stream",
     "text": [
      "{'name': 'Alice', 'age': 30}\n",
      "{'name': 'Bob', 'age': 25}\n",
      "{'name': 'Charlie', 'age': 30}\n"
     ]
    }
   ],
   "source": [
    "\"\"\"\n",
    "2. Can a lambda function in Python have multiple arguments? If yes, how can you define and use\n",
    "them?\n",
    "\n",
    "\"\"\"\n",
    "#ANSWER  \n",
    "\n",
    "\"\"\"\n",
    "Yes, a lambda function in Python can have multiple arguments. You define them \n",
    "by separating them with commas within the parentheses following the lambda \n",
    "keyword.\n",
    "\n",
    "\"\"\"\n",
    "#CODE \n",
    "\n",
    "# Sort a list of dictionaries by name and then by age\n",
    "people = [\n",
    "    {\"name\": \"Alice\", \"age\": 30},\n",
    "    {\"name\": \"Bob\", \"age\": 25},\n",
    "    {\"name\": \"Charlie\", \"age\": 30},\n",
    "]\n",
    "\n",
    "sorted_people = sorted(people, key=lambda person: (person[\"name\"], person[\"age\"]))\n",
    "\n",
    "for person in sorted_people:\n",
    "  print(person)\n"
   ]
  },
  {
   "cell_type": "code",
   "execution_count": 3,
   "metadata": {},
   "outputs": [
    {
     "name": "stdout",
     "output_type": "stream",
     "text": [
      "[1, 4, 9, 16, 25]\n",
      "Area of rectangle: 15\n"
     ]
    }
   ],
   "source": [
    "\"\"\"\n",
    "3. How are lambda functions typically used in Python? Provide an example use \n",
    "case.\n",
    "\n",
    "\"\"\"\n",
    "#ANSWER \n",
    "\n",
    "\"\"\"\n",
    "1. Passing short functions as arguments to higher-order functions:\n",
    "\n",
    " Higher-order functions take other functions as arguments or return functions. \n",
    " Lambda functions provide a concise way to define these inner functions on-the-\n",
    " fly without the need for separate named functions. Here's an example using the \n",
    " map() function:\n",
    "\n",
    "\"\"\"\n",
    "#EXAMPLE \n",
    "\n",
    "numbers = [1, 2, 3, 4, 5]\n",
    "\n",
    "# Square each number using lambda with map()\n",
    "squared_numbers = map(lambda x: x * x, numbers)\n",
    "\n",
    "# The map() object can be converted to a list for further processing\n",
    "print(list(squared_numbers))  # Output: [1, 4, 9, 16, 25]\n",
    "\n",
    "\"\"\"\n",
    "2. Short, one-time calculations:\n",
    "\n",
    "Lambda functions can improve code readability by keeping small, localized \n",
    "calculations within the function where they are used.\n",
    "\n",
    "\"\"\"\n",
    "#EXAMPLE \n",
    "\n",
    "# Calculate the area of a rectangle with dynamic width and height\n",
    "def calculate_area(width, height):\n",
    "  return width * height\n",
    "\n",
    "# Lambda function to calculate area within the print statement (one-time use)\n",
    "print(f\"Area of rectangle: {calculate_area(5, 3)}\")  # Output: Area of rectangle: 15\n",
    "\n",
    "\n",
    "\n"
   ]
  },
  {
   "cell_type": "code",
   "execution_count": 4,
   "metadata": {},
   "outputs": [
    {
     "name": "stdout",
     "output_type": "stream",
     "text": [
      "Regular function result: 4\n",
      "Lambda function result: 4\n",
      "Inline lambda function result: 30\n"
     ]
    },
    {
     "data": {
      "text/plain": [
       "\"\\nLimitations of lambda functions:\\n\\n Limited Functionality: Lambda functions are limited to a single expression \\n and cannot contain complex statements like loops, conditionals or function \\n calls. For any complex logic, you'll need to define a regular function with \\n def.\\n\\n Docstrings: Lambda functions cannot have docstrings to explain their purpose \\n and functionality. This can make your code less readable and maintainable, \\n especially for those unfamiliar with the code.\\n\\n Readability: For intricate logic, regular functions are generally considered \\n more readable and easier to understand compared to lambda functions\\n\\n\""
      ]
     },
     "execution_count": 4,
     "metadata": {},
     "output_type": "execute_result"
    }
   ],
   "source": [
    "\"\"\"\n",
    "4. What are the advantages and limitations of lambda functions compared to \n",
    "regular functions in Python?\n",
    "\n",
    "\"\"\"\n",
    "#ANSWER \n",
    "\n",
    "\"\"\"\n",
    "Advantages of lambda functions:\n",
    "\n",
    " Conciseness: Lambda functions are ideal for short and simple tasks where \n",
    " defining a full-fledged function with def would be overkill. They  express a \n",
    " small, well-defined operation in a single line of code, making your code more \n",
    " compact.\n",
    "\n",
    " Inline use: Lambda functions can be used inline within other functions. This \n",
    " can be useful for creating functions on-the-fly that meet the specific needs \n",
    " of a particular situation.\n",
    "\n",
    "\"\"\"\n",
    "#EXAMPLE \n",
    "def regular_function(x):\n",
    "  \"\"\"A regular function that squares a number\"\"\"\n",
    "  return x * x\n",
    "\n",
    "square = lambda x: x * x  # Lambda function to square a number\n",
    "\n",
    "# Advantages:\n",
    "# 1. Conciseness\n",
    "print(\"Regular function result:\", regular_function(2))\n",
    "print(\"Lambda function result:\", square(2))\n",
    "\n",
    "# 2. Inline use\n",
    "def multiply(x, y):\n",
    "  return lambda z: x * y * z  # Returning a lambda function\n",
    "\n",
    "# Usage\n",
    "doubler = multiply(2, 3)\n",
    "print(\"Inline lambda function result:\", doubler(5))  # Output: 30\n",
    "\n",
    "\"\"\"\n",
    "Limitations of lambda functions:\n",
    "\n",
    " Limited Functionality: Lambda functions are limited to a single expression \n",
    " and cannot contain complex statements like loops, conditionals or function \n",
    " calls. For any complex logic, you'll need to define a regular function with \n",
    " def.\n",
    "\n",
    " Docstrings: Lambda functions cannot have docstrings to explain their purpose \n",
    " and functionality. This can make your code less readable and maintainable, \n",
    " especially for those unfamiliar with the code.\n",
    "\n",
    " Readability: For intricate logic, regular functions are generally considered \n",
    " more readable and easier to understand compared to lambda functions\n",
    "\n",
    "\"\"\"\n",
    "\n"
   ]
  },
  {
   "cell_type": "code",
   "execution_count": 6,
   "metadata": {},
   "outputs": [
    {
     "name": "stdout",
     "output_type": "stream",
     "text": [
      "400\n",
      "100\n"
     ]
    }
   ],
   "source": [
    "\"\"\"\n",
    "5. Are lambda functions in Python able to access variables defined outside of \n",
    "their own scope? Explain with an example.\n",
    "\n",
    "\"\"\"\n",
    "#ANSWER \n",
    "\"\"\"\n",
    "Yes, lambda functions in Python can access variables defined outside of their \n",
    "own scope, but with a twist. They can only access variables that are defined \n",
    "in the enclosing scope at the time the lambda function is created, not when \n",
    "it's called. This is achieved through a concept called closures.\n",
    "\n",
    "\"\"\"\n",
    "#EXAMPLE \n",
    "\n",
    "x = 10  # Global variable\n",
    "\n",
    "def regular_function():\n",
    "  # Can access global x\n",
    "  return x * x\n",
    "\n",
    "lambda_func = lambda y: x * y  # Lambda function captures the value of x at creation time\n",
    "\n",
    "# Even though x is modified later, lambda_func will still use the original value (10)\n",
    "x = 20\n",
    "\n",
    "# Regular function uses the updated value of x\n",
    "print(regular_function())  # Output: 400\n",
    "\n",
    "# Lambda function uses the captured value of x (10)\n",
    "print(lambda_func(5))  # Output: 50\n"
   ]
  },
  {
   "cell_type": "code",
   "execution_count": 7,
   "metadata": {},
   "outputs": [
    {
     "name": "stdout",
     "output_type": "stream",
     "text": [
      "25\n"
     ]
    }
   ],
   "source": [
    "\"\"\"\n",
    "6. Write a lambda function to calculate the square of a given number.\n",
    "\n",
    "\"\"\"\n",
    "#ANSWER \n",
    "\n",
    "square_lambda = lambda x: x * x\n",
    "\n",
    "# Print the square of 5\n",
    "print(square_lambda(5))  # Output: 25\n",
    "\n",
    "\n"
   ]
  },
  {
   "cell_type": "code",
   "execution_count": 9,
   "metadata": {},
   "outputs": [
    {
     "name": "stdout",
     "output_type": "stream",
     "text": [
      "The maximum value in the list is: 30\n"
     ]
    }
   ],
   "source": [
    "\"\"\"\n",
    "7. Create a lambda function to find the maximum value in a list of integers.\n",
    "\n",
    "\"\"\"\n",
    "#ANSWER \n",
    "\n",
    "max_value = lambda lst: max(lst)\n",
    "\n",
    "\n",
    "my_list = [10, 5, 20, 15, 30]\n",
    "result = max_value(my_list)\n",
    "print(f\"The maximum value in the list is: {result}\")\n",
    "\n"
   ]
  },
  {
   "cell_type": "code",
   "execution_count": 10,
   "metadata": {},
   "outputs": [
    {
     "name": "stdout",
     "output_type": "stream",
     "text": [
      "Original list: [1, 2, 3, 4, 5, 6, 7, 8, 9, 10]\n",
      "List without even numbers: [1, 3, 5, 7, 9]\n"
     ]
    },
    {
     "data": {
      "text/plain": [
       "'\\n\\n\\n\\n\\n'"
      ]
     },
     "execution_count": 10,
     "metadata": {},
     "output_type": "execute_result"
    }
   ],
   "source": [
    "\"\"\"\n",
    "8. Implement a lambda function to filter out all the even numbers from a \n",
    "list of integers.\n",
    "\n",
    "\"\"\"\n",
    "#ANSWER \n",
    "# Sample list of integers\n",
    "numbers = [1, 2, 3, 4, 5, 6, 7, 8, 9, 10]\n",
    "\n",
    "# Filter even numbers using lambda and filter\n",
    "filtered_numbers = list(filter(lambda x: x % 2 != 0, numbers))\n",
    "\n",
    "print(\"Original list:\", numbers)\n",
    "print(\"List without even numbers:\", filtered_numbers)\n",
    "\n"
   ]
  },
  {
   "cell_type": "code",
   "execution_count": 11,
   "metadata": {},
   "outputs": [
    {
     "name": "stdout",
     "output_type": "stream",
     "text": [
      "Original list: ['apple', 'banana', 'grapefruit', 'lemon', 'orange']\n",
      "List sorted by string length: ['apple', 'lemon', 'banana', 'orange', 'grapefruit']\n"
     ]
    }
   ],
   "source": [
    "\"\"\"\n",
    "9. Write a lambda function to sort a list of strings in ascending order based on the length of each\n",
    "string.\n",
    "\n",
    "\"\"\"\n",
    "#ANSWER \n",
    "\n",
    "# Sample list of strings\n",
    "words = [\"apple\", \"banana\", \"grapefruit\", \"lemon\", \"orange\"]\n",
    "\n",
    "# Sort by length using lambda function and sorted\n",
    "sorted_words = sorted(words, key=lambda word: len(word))\n",
    "\n",
    "print(\"Original list:\", words)\n",
    "print(\"List sorted by string length:\", sorted_words)\n",
    "\n"
   ]
  },
  {
   "cell_type": "code",
   "execution_count": 12,
   "metadata": {},
   "outputs": [
    {
     "name": "stdout",
     "output_type": "stream",
     "text": [
      "List 1: [1, 2, 3, 4, 5]\n",
      "List 2: [3, 4, 5, 6, 7]\n",
      "Common elements: [3, 4, 5]\n"
     ]
    }
   ],
   "source": [
    "\"\"\"\n",
    "10. Create a lambda function that takes two lists as input and returns a new list containing the\n",
    "common elements between the two lists.\n",
    "\n",
    "\"\"\"\n",
    "#ANSWER \n",
    "\n",
    "# Improved lambda function for finding common elements\n",
    "find_common = lambda list1, list2: list(set(list1) & set(list2))\n",
    "\n",
    "# Sample lists\n",
    "list1 = [1, 2, 3, 4, 5]\n",
    "list2 = [3, 4, 5, 6, 7]\n",
    "\n",
    "# Find common elements\n",
    "common_elements = find_common(list1, list2)\n",
    "\n",
    "print(\"List 1:\", list1)\n",
    "print(\"List 2:\", list2)\n",
    "print(\"Common elements:\", common_elements)\n",
    "\n"
   ]
  },
  {
   "cell_type": "code",
   "execution_count": 16,
   "metadata": {},
   "outputs": [
    {
     "name": "stdout",
     "output_type": "stream",
     "text": [
      "The factorial of 5 is 120\n"
     ]
    }
   ],
   "source": [
    "\"\"\"\n",
    "11. Write a recursive function to calculate the factorial of a given positive \n",
    "integer.\n",
    "\n",
    "\"\"\"\n",
    "#ANSWER \n",
    "\n",
    "def factorial(n):\n",
    "  \"\"\"\n",
    "  This function calculates the factorial of a non-negative integer using recursion.\n",
    "\n",
    "  Args:\n",
    "      n: The non-negative integer for which to calculate the factorial.\n",
    "\n",
    "  Returns:\n",
    "      The factorial of n.\n",
    "\n",
    "  Raises:\n",
    "      ValueError: If n is negative.\n",
    "  \"\"\"\n",
    "\n",
    "  if n < 0:\n",
    "    raise ValueError(\"Factorial is not defined for negative numbers\")\n",
    "  elif n == 0:\n",
    "    return 1\n",
    "  else:\n",
    "    return n * factorial(n-1)\n",
    "\n",
    "\n",
    "\n",
    "number = 5\n",
    "result = factorial(number)\n",
    "print(f\"The factorial of {number} is {result}\")\n",
    "\n"
   ]
  },
  {
   "cell_type": "code",
   "execution_count": 15,
   "metadata": {},
   "outputs": [
    {
     "name": "stdout",
     "output_type": "stream",
     "text": [
      "The 10th Fibonacci number is 55\n"
     ]
    }
   ],
   "source": [
    "\"\"\"\n",
    "12. Implement a recursive function to compute the nth Fibonacci number.\n",
    "\n",
    "\"\"\"\n",
    "#ANSWER \n",
    "\n",
    "def fibonacci(n):\n",
    "  \"\"\"\n",
    "  This function calculates the nth Fibonacci number using recursion.\n",
    "\n",
    "  Args:\n",
    "      n: The index of the Fibonacci number to calculate (non-negative integer).\n",
    "\n",
    "  Returns:\n",
    "      The nth Fibonacci number.\n",
    "\n",
    "  Raises:\n",
    "      ValueError: If n is negative.\n",
    "  \"\"\"\n",
    "\n",
    "  if n < 0:\n",
    "    raise ValueError(\"Fibonacci number is not defined for negative numbers\")\n",
    "  elif n == 0:\n",
    "    return 0\n",
    "  elif n == 1:\n",
    "    return 1\n",
    "  else:\n",
    "    return fibonacci(n-1) + fibonacci(n-2)\n",
    "\n",
    "\n",
    "nth_term = 10\n",
    "result = fibonacci(nth_term)\n",
    "print(f\"The {nth_term}th Fibonacci number is {result}\")\n",
    "\n"
   ]
  },
  {
   "cell_type": "code",
   "execution_count": 17,
   "metadata": {},
   "outputs": [
    {
     "name": "stdout",
     "output_type": "stream",
     "text": [
      "The sum of the elements in the list is: 15\n"
     ]
    }
   ],
   "source": [
    "\"\"\"\n",
    "13. Create a recursive function to find the sum of all the elements in a given \n",
    "list.\n",
    "\n",
    "\"\"\"\n",
    "#ANSWER \n",
    "\n",
    "def recursive_sum(lst):\n",
    "    if not lst:\n",
    "        return 0\n",
    "    else:\n",
    "        return lst[0] + recursive_sum(lst[1:])\n",
    "\n",
    "my_list = [1, 2, 3, 4, 5]\n",
    "result = recursive_sum(my_list)\n",
    "print(f\"The sum of the elements in the list is: {result}\")\n",
    "\n",
    "\n",
    "\n"
   ]
  },
  {
   "cell_type": "code",
   "execution_count": 18,
   "metadata": {},
   "outputs": [
    {
     "name": "stdout",
     "output_type": "stream",
     "text": [
      "racecar is a palindrome.\n"
     ]
    }
   ],
   "source": [
    "\"\"\"\n",
    "14. Write a recursive function to determine whether a given string is a \n",
    "palindrome.\n",
    "\n",
    "\"\"\"\n",
    "#ANSWER \n",
    "\n",
    "def is_palindrome(s):\n",
    "    # Base case: If the string has 0 or 1 characters, it's a palindrome.\n",
    "    if len(s) <= 1:\n",
    "        return True\n",
    "    # Compare the first and last characters.\n",
    "    if s[0] != s[-1]:\n",
    "        return False\n",
    "    # Recurse on the substring without the first and last characters.\n",
    "    return is_palindrome(s[1:-1])\n",
    "\n",
    "\n",
    "my_string = \"racecar\"\n",
    "result = is_palindrome(my_string)\n",
    "if result:\n",
    "    print(f\"{my_string} is a palindrome.\")\n",
    "else:\n",
    "    print(f\"{my_string} is not a palindrome.\")\n",
    "\n"
   ]
  },
  {
   "cell_type": "code",
   "execution_count": 19,
   "metadata": {},
   "outputs": [
    {
     "name": "stdout",
     "output_type": "stream",
     "text": [
      "The GCD of 48 and 18 is 6\n"
     ]
    }
   ],
   "source": [
    "\"\"\"\n",
    "15. Implement a recursive function to find the greatest common divisor (GCD) \n",
    "of two positive integers.\n",
    "\n",
    "\"\"\"\n",
    "#ANSWER \n",
    "\n",
    "def gcd(a, b):\n",
    "    \"\"\"\n",
    "    Recursive function to find the greatest common divisor (GCD) of \n",
    "    two positive integers.\n",
    "    \n",
    "    \"\"\"\n",
    "    if b == 0:\n",
    "        return a\n",
    "    else:\n",
    "        return gcd(b, a % b)\n",
    "\n",
    "num1 = 48\n",
    "num2 = 18\n",
    "result = gcd(num1, num2)\n",
    "print(f\"The GCD of {num1} and {num2} is {result}\")\n",
    "\n"
   ]
  },
  {
   "cell_type": "code",
   "execution_count": null,
   "metadata": {},
   "outputs": [],
   "source": []
  }
 ],
 "metadata": {
  "kernelspec": {
   "display_name": "Python 3",
   "language": "python",
   "name": "python3"
  },
  "language_info": {
   "codemirror_mode": {
    "name": "ipython",
    "version": 3
   },
   "file_extension": ".py",
   "mimetype": "text/x-python",
   "name": "python",
   "nbconvert_exporter": "python",
   "pygments_lexer": "ipython3",
   "version": "3.11.9"
  }
 },
 "nbformat": 4,
 "nbformat_minor": 2
}
