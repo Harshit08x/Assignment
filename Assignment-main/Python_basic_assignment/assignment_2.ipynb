{
 "cells": [
  {
   "cell_type": "code",
   "execution_count": 1,
   "metadata": {},
   "outputs": [
    {
     "data": {
      "text/plain": [
       "'\\nIn the Boolean data type, there are only two possible values:\\n\\nTrue: This represents a truth condition or a successful evaluation.\\n\\nFalse: This represents a false condition or an unsuccessful evaluation.\\n\\n'"
      ]
     },
     "execution_count": 1,
     "metadata": {},
     "output_type": "execute_result"
    }
   ],
   "source": [
    "#ASSIGNMNET SUBMITTED BY HARSHIT AGRAHARI DATE :- 21 MAY 2024\n",
    "\n",
    "#1.What are the two values of the Boolean data type? How do you write them?\n",
    "\n",
    "\"\"\"\n",
    "In the Boolean data type, there are only two possible values:\n",
    "\n",
    "True: This represents a truth condition or a successful evaluation.\n",
    "\n",
    "False: This represents a false condition or an unsuccessful evaluation.\n",
    "\n",
    "\"\"\""
   ]
  },
  {
   "cell_type": "code",
   "execution_count": 2,
   "metadata": {},
   "outputs": [
    {
     "data": {
      "text/plain": [
       "'\\n1.and (AND): This operator returns True only if both operands are True. \\nOtherwise, it returns False.\\n\\nExample: x = 5 > 3 and y = 2 < 10 (evaluates to True because both conditions are true).\\nExample: x = 5 < 3 and y = 2 < 10 (evaluates to False because the first condition is false).\\n\\n2.or (OR): This operator returns True if at least one operand is True. \\nIt returns False only if both operands are False.\\n\\nExample: x = 5 > 3 or y = 2 > 10 (evaluates to True because the first condition is true).\\nExample: x = 5 < 3 or y = 2 < 10 (evaluates to True because the second condition is true).\\nExample: x = 5 < 3 or y = 2 > 10 (evaluates to False because both conditions are false).\\n\\n3.not (NOT): This operator reverses the logical state of its operand. \\nTrue becomes False, and False becomes True.\\n\\nExample: not (x = 5 > 3) (evaluates to False because the negated condition is \\nfalse).\\n\\n'"
      ]
     },
     "execution_count": 2,
     "metadata": {},
     "output_type": "execute_result"
    }
   ],
   "source": [
    "#2. What are the three different types of Boolean operators?\n",
    "\n",
    "\"\"\"\n",
    "1.and (AND): This operator returns True only if both operands are True. \n",
    "Otherwise, it returns False.\n",
    "\n",
    "Example: x = 5 > 3 and y = 2 < 10 (evaluates to True because both conditions are true).\n",
    "Example: x = 5 < 3 and y = 2 < 10 (evaluates to False because the first condition is false).\n",
    "\n",
    "2.or (OR): This operator returns True if at least one operand is True. \n",
    "It returns False only if both operands are False.\n",
    "\n",
    "Example: x = 5 > 3 or y = 2 > 10 (evaluates to True because the first condition is true).\n",
    "Example: x = 5 < 3 or y = 2 < 10 (evaluates to True because the second condition is true).\n",
    "Example: x = 5 < 3 or y = 2 > 10 (evaluates to False because both conditions are false).\n",
    "\n",
    "3.not (NOT): This operator reverses the logical state of its operand. \n",
    "True becomes False, and False becomes True.\n",
    "\n",
    "Example: not (x = 5 > 3) (evaluates to False because the negated condition is \n",
    "false).\n",
    "\n",
    "\"\"\""
   ]
  },
  {
   "cell_type": "code",
   "execution_count": 3,
   "metadata": {},
   "outputs": [
    {
     "data": {
      "text/plain": [
       "\"\\nOperator\\tOperand 1\\tOperand 2\\tResult\\nand\\t         True\\t    True\\t    True\\n             True\\t    False\\t    False\\n             False\\t    True\\t    False\\n             False\\t    False\\t    False\\nor\\t         True\\t    True\\t    True\\n             True\\t    False\\t    True\\n             False\\t    True\\t    True\\n             False\\t    False\\t    False\\nnot\\t         True\\t      -\\t        False\\n             False\\t      -\\t        True\\n\\nExplanation:\\n\\n1.and: The result is True only when both operands are True. \\nIn all other combinations, the result is False.\\n\\n2.or: The result is True whenever at least one operand is True. \\nIt's only False when both operands are False.\\n\\n3.not: The result is simply the opposite of the operand's logical state. \\nTrue becomes False, and False becomes True. Note that not only takes one \\noperand.\\n\\n\""
      ]
     },
     "execution_count": 3,
     "metadata": {},
     "output_type": "execute_result"
    }
   ],
   "source": [
    "\"\"\"\n",
    "Question 3. Make a list of each Boolean operator&#39;s truth tables (i.e. every possible combination of Boolean\n",
    "values for the operator and what it evaluate ).\n",
    "\n",
    "\"\"\"\n",
    "#Answer\n",
    "\"\"\"\n",
    "Operator\tOperand 1\tOperand 2\tResult\n",
    "and\t         True\t    True\t    True\n",
    "             True\t    False\t    False\n",
    "             False\t    True\t    False\n",
    "             False\t    False\t    False\n",
    "or\t         True\t    True\t    True\n",
    "             True\t    False\t    True\n",
    "             False\t    True\t    True\n",
    "             False\t    False\t    False\n",
    "not\t         True\t      -\t        False\n",
    "             False\t      -\t        True\n",
    "\n",
    "Explanation:\n",
    "\n",
    "1.and: The result is True only when both operands are True. \n",
    "In all other combinations, the result is False.\n",
    "\n",
    "2.or: The result is True whenever at least one operand is True. \n",
    "It's only False when both operands are False.\n",
    "\n",
    "3.not: The result is simply the opposite of the operand's logical state. \n",
    "True becomes False, and False becomes True. Note that not only takes one \n",
    "operand.\n",
    "\n",
    "\"\"\""
   ]
  },
  {
   "cell_type": "code",
   "execution_count": 4,
   "metadata": {},
   "outputs": [
    {
     "data": {
      "text/plain": [
       "'\\n1. (5 > 4) and (3 == 5)\\n\\n5 > 4 evaluates to True (5 is greater than 4).\\n3 == 5 evaluates to False (3 is not equal to 5).\\nSince and requires both conditions to be True for the overall expression to \\nbe True, the entire expression evaluates to False.\\n\\n2. not (5 > 4)\\n\\n5 > 4 evaluates to True.\\nnot True reverses the logical state to False.\\nTherefore, the expression evaluates to False.\\n\\n3. (5 > 4) or (3 == 5)\\n\\n5 > 4 evaluates to True.\\nSince or requires only one condition to be True for the overall expression to \\nbe True, the expression evaluates to True (even though the second condition is False).\\n\\n4. not ((5 > 4) or (3 == 5))\\n\\n(5 > 4) or (3 == 5) evaluates to True (as explained in expression 3).\\nnot True reverses the logical state to False.\\nThus, the entire expression evaluates to False.\\n\\n5. (True and True) and (True == False)\\n\\nTrue and True evaluates to True (both conditions are True).\\nTrue == False evaluates to False.\\nSince and requires both conditions to be True, the entire expression evaluates \\nto False (even though the first part was True).\\n\\n6. (not False) or (not True)\\n\\nnot False evaluates to True.\\nnot True evaluates to False.\\nSince or requires only one condition to be True, the entire expression \\nevaluates to True (because the first part is True).\\n\\n'"
      ]
     },
     "execution_count": 4,
     "metadata": {},
     "output_type": "execute_result"
    }
   ],
   "source": [
    "#4. What are the values of the following expressions?\n",
    "#(5 > 4) and (3 == 5)\n",
    "#not (5 > 4)\n",
    "#(5 > 4) or (3 == 5)\n",
    "#not ((5 > 4) or (3 == 5))\n",
    "#(True and True) and (True == False)\n",
    "#(not False) or (not True)\n",
    "\n",
    "#ANSWER\n",
    "\n",
    "\"\"\"\n",
    "1. (5 > 4) and (3 == 5)\n",
    "\n",
    "5 > 4 evaluates to True (5 is greater than 4).\n",
    "3 == 5 evaluates to False (3 is not equal to 5).\n",
    "Since and requires both conditions to be True for the overall expression to \n",
    "be True, the entire expression evaluates to False.\n",
    "\n",
    "2. not (5 > 4)\n",
    "\n",
    "5 > 4 evaluates to True.\n",
    "not True reverses the logical state to False.\n",
    "Therefore, the expression evaluates to False.\n",
    "\n",
    "3. (5 > 4) or (3 == 5)\n",
    "\n",
    "5 > 4 evaluates to True.\n",
    "Since or requires only one condition to be True for the overall expression to \n",
    "be True, the expression evaluates to True (even though the second condition is False).\n",
    "\n",
    "4. not ((5 > 4) or (3 == 5))\n",
    "\n",
    "(5 > 4) or (3 == 5) evaluates to True (as explained in expression 3).\n",
    "not True reverses the logical state to False.\n",
    "Thus, the entire expression evaluates to False.\n",
    "\n",
    "5. (True and True) and (True == False)\n",
    "\n",
    "True and True evaluates to True (both conditions are True).\n",
    "True == False evaluates to False.\n",
    "Since and requires both conditions to be True, the entire expression evaluates \n",
    "to False (even though the first part was True).\n",
    "\n",
    "6. (not False) or (not True)\n",
    "\n",
    "not False evaluates to True.\n",
    "not True evaluates to False.\n",
    "Since or requires only one condition to be True, the entire expression \n",
    "evaluates to True (because the first part is True).\n",
    "\n",
    "\"\"\""
   ]
  },
  {
   "cell_type": "code",
   "execution_count": 5,
   "metadata": {},
   "outputs": [
    {
     "data": {
      "text/plain": [
       "'\\n1.Equal (==): Checks if two values are equal.\\n\\nExample: 5 == 5 evaluates to True.\\nExample: \"hello\" == \"world\" evaluates to False.\\n\\n2.Not equal (!=): Checks if two values are not equal.\\n\\nExample: 10 != 5 evaluates to True.\\nExample: \"apple\" !=\"apple\"evaluates toFalse.\\n3.Greater than (>):Checks if the left operand is greater than the right operand.\\n\\nExample: 7 > 3 evaluates to True.\\nExample: \"banana\" >\"apple\"evaluates toFalse` (based on alphabetical order).\\n\\n4.Less than (<): Checks if the left operand is less than the right operand.\\n\\nExample: 2 < 8 evaluates to True.\\nExample: \"cherry\" <\"date\"evaluates toTrue (based on alphabetical order).\\n\\n5.Greater than or equal to (>=): Checks if the left operand is greater than or equal to the right operand.\\n\\nExample: 10 >= 10 evaluates to True.\\nExample: 4 >= 2 evaluates to True.\\n\\n6.Less than or equal to (<=): Checks if the left operand is less than or equal to the right operand.\\n\\nExample: 1 <= 5 evaluates to True.\\nExample: \"mango\" <=\"mango\"evaluates toTrue.\\n\\n\\n'"
      ]
     },
     "execution_count": 5,
     "metadata": {},
     "output_type": "execute_result"
    }
   ],
   "source": [
    "#5. What are the six comparison operators?\n",
    "\n",
    "\"\"\"\n",
    "1.Equal (==): Checks if two values are equal.\n",
    "\n",
    "Example: 5 == 5 evaluates to True.\n",
    "Example: \"hello\" == \"world\" evaluates to False.\n",
    "\n",
    "2.Not equal (!=): Checks if two values are not equal.\n",
    "\n",
    "Example: 10 != 5 evaluates to True.\n",
    "Example: \"apple\" !=\"apple\"evaluates toFalse.\n",
    "3.Greater than (>):Checks if the left operand is greater than the right operand.\n",
    "\n",
    "Example: 7 > 3 evaluates to True.\n",
    "Example: \"banana\" >\"apple\"evaluates toFalse` (based on alphabetical order).\n",
    "\n",
    "4.Less than (<): Checks if the left operand is less than the right operand.\n",
    "\n",
    "Example: 2 < 8 evaluates to True.\n",
    "Example: \"cherry\" <\"date\"evaluates toTrue (based on alphabetical order).\n",
    "\n",
    "5.Greater than or equal to (>=): Checks if the left operand is greater than or equal to the right operand.\n",
    "\n",
    "Example: 10 >= 10 evaluates to True.\n",
    "Example: 4 >= 2 evaluates to True.\n",
    "\n",
    "6.Less than or equal to (<=): Checks if the left operand is less than or equal to the right operand.\n",
    "\n",
    "Example: 1 <= 5 evaluates to True.\n",
    "Example: \"mango\" <=\"mango\"evaluates toTrue.\n",
    "\n",
    "\n",
    "\"\"\""
   ]
  },
  {
   "cell_type": "code",
   "execution_count": 6,
   "metadata": {},
   "outputs": [
    {
     "name": "stdout",
     "output_type": "stream",
     "text": [
      "x and y are not equal\n"
     ]
    }
   ],
   "source": [
    "\"\"\"\n",
    "Question 6. How do you tell the difference between the equal to and assignment operators?\n",
    "Describe a condition and when you would use one.\n",
    "\n",
    "\"\"\"\n",
    "#ANSWER\n",
    "\n",
    "\"\"\"\n",
    "The difference between the equal to (==) and assignment (=) operators in \n",
    "Python is crucial:\n",
    "\n",
    "1.Equal To Operator (==)\n",
    "\n",
    "Purpose: Checks if two values are equal and returns a Boolean result (True or \n",
    "False).\n",
    "\n",
    "Usage: Used in comparisons to evaluate conditions in if statements, loops, and \n",
    "other conditional expressions.\n",
    "\n",
    "Example: x = 5; y = 10; if x == y: print(\"x and y are equal\") (This will not \n",
    "print anything because x and y are not equal).\n",
    "\n",
    "2.Assignment Operator (=)\n",
    "\n",
    "Purpose: Assigns a value to a variable.\n",
    "\n",
    "Usage: Used to create variables and store values in them.\n",
    "\n",
    "Example: age = 30; name = \"Alice\" (This assigns the value 30 to the variable \n",
    "age and the value \"Alice\" to the variable name).\n",
    "\n",
    "\n",
    "#Key Distinction:\n",
    "\n",
    "The equal to operator (==) has two operands on either side, and it evaluates \n",
    "to a Boolean value.\n",
    "\n",
    "The assignment operator (=) has a variable name on the left side and a value \n",
    "on the right side. It doesn't return a value; it modifies the variable's \n",
    "content.\n",
    "\n",
    "\n",
    "#Conditions:\n",
    "\n",
    "\n",
    "A condition is a statement that can be either True or False. It's often used \n",
    "to control the flow of your program based on certain criteria. \n",
    "\n",
    "Here's when you would use the == operator in a condition:\n",
    "\n",
    "When you want to check if two values are equal. For example, \n",
    "if age == 18: print(\"You can now vote\") checks if the age variable is equal \n",
    "to 18.\n",
    "\n",
    "\"\"\"\n",
    "x = 5\n",
    "y = 10\n",
    "\n",
    "if x == y:\n",
    "  print(\"x and y are equal\")  # This won't print because x and y are not equal\n",
    "else:\n",
    "  print(\"x and y are not equal\")  # This will print\n"
   ]
  },
  {
   "cell_type": "code",
   "execution_count": 7,
   "metadata": {},
   "outputs": [
    {
     "name": "stdout",
     "output_type": "stream",
     "text": [
      "ham\n",
      "spam\n",
      "spam\n"
     ]
    }
   ],
   "source": [
    "#7. Identify the three blocks in this code:\n",
    "\n",
    "#spam = 0\n",
    "#if spam == 10:\n",
    "#print(\"eggs\")\n",
    "#if spam > 5:\n",
    "#print(\"bacon\")\n",
    "#else:\n",
    "#print(\"ham\")\n",
    "#print(\"spam\")\n",
    "#print(\"spam\")\n",
    "\n",
    "\"Answer\"\n",
    "\n",
    "spam = 0\n",
    "if spam == 10:\n",
    "   print(\"eggs\")\n",
    "if spam > 5:\n",
    "   print(\"bacon\")\n",
    "else:\n",
    "   print(\"ham\")\n",
    "   print(\"spam\")\n",
    "   print(\"spam\")\n",
    "\n",
    "\n"
   ]
  },
  {
   "cell_type": "code",
   "execution_count": 8,
   "metadata": {},
   "outputs": [
    {
     "name": "stdout",
     "output_type": "stream",
     "text": [
      "Hello\n"
     ]
    }
   ],
   "source": [
    "\"\"\"\n",
    "Question 8. Write code that prints Hello if 1 is stored in spam, prints Howdy if 2 is \n",
    "stored in spam, and prints Greetings! if anything else is stored in spam.\n",
    "\"\"\"\n",
    "#Answer\n",
    "\n",
    "spam = 1  # You can change this value to test different scenarios\n",
    "\n",
    "if spam == 1:\n",
    "    print(\"Hello\")\n",
    "elif spam == 2:\n",
    "    print(\"Howdy\")\n",
    "else:\n",
    "    print(\"Greetings!\")"
   ]
  },
  {
   "cell_type": "code",
   "execution_count": 9,
   "metadata": {},
   "outputs": [
    {
     "data": {
      "text/plain": [
       "'\\nWhen your Python program is stuck in an infinite loop, the most common way to \\ninterrupt it and regain control is to use the keyboard shortcut:\\n\\nCtrl+C (Control key pressed together with the C key)\\n\\nThis will send a SIGINT (interrupt) signal to the Python interpreter, causing \\nit to terminate the currently running program.\\n\\n'"
      ]
     },
     "execution_count": 9,
     "metadata": {},
     "output_type": "execute_result"
    }
   ],
   "source": [
    "#9.If your programme is stuck in an endless loop, what keys you’ll press?\n",
    "\n",
    "\"\"\"\n",
    "When your Python program is stuck in an infinite loop, the most common way to \n",
    "interrupt it and regain control is to use the keyboard shortcut:\n",
    "\n",
    "Ctrl+C (Control key pressed together with the C key)\n",
    "\n",
    "This will send a SIGINT (interrupt) signal to the Python interpreter, causing \n",
    "it to terminate the currently running program.\n",
    "\n",
    "\"\"\""
   ]
  },
  {
   "cell_type": "code",
   "execution_count": 10,
   "metadata": {},
   "outputs": [
    {
     "data": {
      "text/plain": [
       "\"\\n1.break:\\n\\nExits the loop completely, regardless of where it is in the loop's iteration.\\n\\nControl jumps to the statement immediately after the loop.\\n\\n\\n2.continue:\\n\\nSkips the remaining code within the current iteration of the loop and jumps \\nback to the beginning of the next iteration.\\n\\nThe loop continues to execute as long as the loop condition remains True.\\n\\n\""
      ]
     },
     "execution_count": 10,
     "metadata": {},
     "output_type": "execute_result"
    }
   ],
   "source": [
    "#10. How can you tell the difference between break and continue?\n",
    "\n",
    "\"\"\"\n",
    "1.break:\n",
    "\n",
    "Exits the loop completely, regardless of where it is in the loop's iteration.\n",
    "\n",
    "Control jumps to the statement immediately after the loop.\n",
    "\n",
    "\n",
    "2.continue:\n",
    "\n",
    "Skips the remaining code within the current iteration of the loop and jumps \n",
    "back to the beginning of the next iteration.\n",
    "\n",
    "The loop continues to execute as long as the loop condition remains True.\n",
    "\n",
    "\"\"\""
   ]
  },
  {
   "cell_type": "code",
   "execution_count": 11,
   "metadata": {},
   "outputs": [
    {
     "data": {
      "text/plain": [
       "'\\n1. range(10):\\n\\nThis is the most concise way to create a sequence from 0 (inclusive) to 9 \\n(exclusive). In other words, it iterates through numbers from 0 up to, but \\nnot including, 10.\\n\\n2. range(0, 10):\\n\\nThis is equivalent to range(10). It explicitly specifies the starting and \\nending points, but the ending point (10) is not included in the iteration.\\nIt also iterates from 0 to 9 (exclusive).\\n\\n3. range(0, 10, 1):\\n\\nThis explicitly defines the starting point (0), ending point (10), and step \\nsize (1). It iterates from 0 to 9 (inclusive) with a step of 1.However, \\nsince the default step size for range is 1 anyway, this is usually redundant.\\n\\n'"
      ]
     },
     "execution_count": 11,
     "metadata": {},
     "output_type": "execute_result"
    }
   ],
   "source": [
    "#11. In a for loop, what is the difference between range(10), range(0, 10), and range(0, 10, 1)?\n",
    "\n",
    "\"\"\"\n",
    "1. range(10):\n",
    "\n",
    "This is the most concise way to create a sequence from 0 (inclusive) to 9 \n",
    "(exclusive). In other words, it iterates through numbers from 0 up to, but \n",
    "not including, 10.\n",
    "\n",
    "2. range(0, 10):\n",
    "\n",
    "This is equivalent to range(10). It explicitly specifies the starting and \n",
    "ending points, but the ending point (10) is not included in the iteration.\n",
    "It also iterates from 0 to 9 (exclusive).\n",
    "\n",
    "3. range(0, 10, 1):\n",
    "\n",
    "This explicitly defines the starting point (0), ending point (10), and step \n",
    "size (1). It iterates from 0 to 9 (inclusive) with a step of 1.However, \n",
    "since the default step size for range is 1 anyway, this is usually redundant.\n",
    "\n",
    "\"\"\""
   ]
  },
  {
   "cell_type": "code",
   "execution_count": 12,
   "metadata": {},
   "outputs": [
    {
     "name": "stdout",
     "output_type": "stream",
     "text": [
      "1\n",
      "2\n",
      "3\n",
      "4\n",
      "5\n",
      "6\n",
      "7\n",
      "8\n",
      "9\n",
      "10\n",
      "1\n",
      "2\n",
      "3\n",
      "4\n",
      "5\n",
      "6\n",
      "7\n",
      "8\n",
      "9\n",
      "10\n"
     ]
    }
   ],
   "source": [
    "\"\"\"\n",
    "Question 12. Write a short program that prints the numbers 1 to 10 using a for loop. \n",
    "Then write an equivalent program that prints the numbers 1 to 10 using a while \n",
    "loop.\n",
    "\n",
    "\"\"\"\n",
    "#ANSWER\n",
    "\n",
    "#USING FOR LOOP\n",
    "\n",
    "for i in range(1, 11):  # Start from 1, end before 11 (inclusive-exclusive)\n",
    "    print(i)\n",
    "\n",
    "#USING WHILE LOOP \n",
    "\n",
    "i = 1\n",
    "while i <= 10:\n",
    "    print(i)\n",
    "    i += 1  # Increment i after printing\n"
   ]
  },
  {
   "cell_type": "code",
   "execution_count": null,
   "metadata": {},
   "outputs": [],
   "source": [
    "\"\"\"\n",
    "13. If you had a function named bacon() inside a module named spam, \n",
    "how would you call it after importing spam?\n",
    "\n",
    "\"\"\"\n",
    "#ANSWER\n",
    "\n",
    "import spam\n",
    "\n",
    "# Call the function using dot notation\n",
    "spam.bacon()\n",
    "\n",
    "\"\"\"\n",
    "Explanation:\n",
    "\n",
    "1.Import the module: The import spam statement imports the entire spam module \n",
    "into your current program's namespace.\n",
    "\n",
    "2.Call the function: You can then call the function bacon() by using dot \n",
    "notation. This notation starts with the module name (spam) followed by a dot \n",
    "(.) and then the function name (bacon()).\n",
    "\n",
    "\"\"\""
   ]
  }
 ],
 "metadata": {
  "kernelspec": {
   "display_name": "Python 3",
   "language": "python",
   "name": "python3"
  },
  "language_info": {
   "codemirror_mode": {
    "name": "ipython",
    "version": 3
   },
   "file_extension": ".py",
   "mimetype": "text/x-python",
   "name": "python",
   "nbconvert_exporter": "python",
   "pygments_lexer": "ipython3",
   "version": "3.11.9"
  }
 },
 "nbformat": 4,
 "nbformat_minor": 2
}
