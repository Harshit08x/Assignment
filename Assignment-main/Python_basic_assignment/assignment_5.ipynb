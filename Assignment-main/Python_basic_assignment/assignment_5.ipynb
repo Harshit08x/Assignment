{
 "cells": [
  {
   "cell_type": "code",
   "execution_count": 1,
   "metadata": {},
   "outputs": [],
   "source": [
    "# Assignment submitted by Harshit Agrahari Date :- 21 May 2024"
   ]
  },
  {
   "cell_type": "code",
   "execution_count": 9,
   "metadata": {},
   "outputs": [
    {
     "data": {
      "text/plain": [
       "'\\n1.Curly braces {}: This is the most common and concise way to represent an empty \\ndictionary.\\n\\nExample \\n\\nempty_dict = {}\\n\\n2.dict() function: You can use the dict() function without any arguments to \\ncreate an empty dictionary.\\n\\nExample  empty_dict = dict()\\n\\n'"
      ]
     },
     "execution_count": 9,
     "metadata": {},
     "output_type": "execute_result"
    }
   ],
   "source": [
    "#1. What does an empty dictionary&#39;s code look like?\n",
    "\n",
    "#Answer \n",
    "\n",
    "\"\"\"\n",
    "1.Curly braces {}: This is the most common and concise way to represent an empty \n",
    "dictionary.\n",
    "\n",
    "Example \n",
    "\n",
    "empty_dict = {}\n",
    "\n",
    "2.dict() function: You can use the dict() function without any arguments to \n",
    "create an empty dictionary.\n",
    "\n",
    "Example  empty_dict = dict()\n",
    "\n",
    "\"\"\""
   ]
  },
  {
   "cell_type": "code",
   "execution_count": 3,
   "metadata": {},
   "outputs": [
    {
     "name": "stdout",
     "output_type": "stream",
     "text": [
      "42\n"
     ]
    }
   ],
   "source": [
    "\"\"\"\n",
    "Question 2. What is the value of a dictionary value with the key \"foo\" and \n",
    "the value 42?\n",
    "\n",
    "\"\"\"\n",
    "#Answer \n",
    "my_dict = {'foo': 42}\n",
    "value_for_foo = my_dict['foo']\n",
    "\n",
    "print(value_for_foo)  # Output: 42\n"
   ]
  },
  {
   "cell_type": "code",
   "execution_count": 4,
   "metadata": {},
   "outputs": [
    {
     "data": {
      "text/plain": [
       "\"\\nFeature\\t                 Lists\\t                 Dictionaries\\n\\nOrdering\\t             Ordered\\t             Unordered\\n\\nAccessing Elements\\t     By index position       By key\\n                         (e.g., my_list[2])\\t     (e.g., my_dict['name'])\\n\\nDuplicates\\t             Allowed\\t             Not allowed (keys must \\n                                                 be unique)\\n\\nData Structure\\t         Sequential linear       Hash table \\n                         structure                \\n\""
      ]
     },
     "execution_count": 4,
     "metadata": {},
     "output_type": "execute_result"
    }
   ],
   "source": [
    "#3. What is the most significant distinction between a dictionary and a list?\n",
    "\n",
    "\"\"\"\n",
    "Feature\t                 Lists\t                 Dictionaries\n",
    "\n",
    "Ordering\t             Ordered\t             Unordered\n",
    "\n",
    "Accessing Elements\t     By index position       By key\n",
    "                         (e.g., my_list[2])\t     (e.g., my_dict['name'])\n",
    "\n",
    "Duplicates\t             Allowed\t             Not allowed (keys must \n",
    "                                                 be unique)\n",
    "\n",
    "Data Structure\t         Sequential linear       Hash table \n",
    "                         structure                \n",
    "\"\"\""
   ]
  },
  {
   "cell_type": "code",
   "execution_count": 5,
   "metadata": {},
   "outputs": [
    {
     "name": "stdout",
     "output_type": "stream",
     "text": [
      "Key 'foo' not found in the dictionary\n"
     ]
    }
   ],
   "source": [
    "\"\"\"\n",
    "Question 4. What happens if you try to access spam[\"foo\"] if spam is \n",
    "{\"bar\": 100}?\n",
    "\n",
    "\"\"\"\n",
    "#Answer\n",
    "\n",
    "\"\"\"\n",
    "If you try to access spam[\"foo\"] when spam is {\"bar\": 100}, you'll encounter a \n",
    "KeyError exception in Python.\n",
    "\n",
    "Here's the breakdown:\n",
    "\n",
    "1.Dictionaries and Keys: Dictionaries store data using key-value pairs. You \n",
    "use the key to access the corresponding value.\n",
    "\n",
    "2.Missing Key: In this scenario, spam only has one key-value pair: \"bar\": 100.\n",
    "\n",
    "3.Accessing with \"foo\": When you try spam[\"foo\"], you're searching for the \n",
    "value associated with the key \"foo\".\n",
    "\n",
    "4.KeyError: Since \"foo\" is not present in spam, there's no corresponding value \n",
    "to return. This triggers a KeyError.\n",
    "\n",
    "The KeyError exception signals that the provided key (in this case, \"foo\") is \n",
    "not found within the dictionary. It's Python's way of saying the access \n",
    "attempt was unsuccessful.\n",
    "\n",
    "\"\"\"\n",
    "#Example \n",
    "spam = {\"bar\": 100}\n",
    "\n",
    "try:\n",
    "  value = spam[\"foo\"]  # This line will raise a KeyError\n",
    "  print(value)\n",
    "except KeyError:\n",
    "  print(\"Key 'foo' not found in the dictionary\")\n"
   ]
  },
  {
   "cell_type": "code",
   "execution_count": 6,
   "metadata": {},
   "outputs": [
    {
     "data": {
      "text/plain": [
       "'\\n1. \\'cat\\' in spam:\\n\\nThis expression checks if the key \"cat\" is present anywhere within the \\ndictionary spam.\\n\\nIt returns True if the key \"cat\" exists in spam, regardless of the value \\nassociated with that key.\\n\\nThis includes situations where the value for \"cat\" might be None \\n(indicating no value was assigned).\\n\\n2. \\'cat\\' in spam.keys():\\n\\nThis expression specifically checks if the key \"cat\" exists among the \\ndictionary\\'s keys.\\n\\nIt returns True only if the key \"cat\" exists and is associated with a value \\n(not necessarily None).\\n\\n'"
      ]
     },
     "execution_count": 6,
     "metadata": {},
     "output_type": "execute_result"
    }
   ],
   "source": [
    "\"\"\"\n",
    "Question 5. If a dictionary is stored in spam, what is the difference between the \n",
    "expressions \"cat\" in spam and \"cat\" in spam.keys()?\n",
    "\n",
    "\"\"\"\n",
    "#Answer\n",
    "\n",
    "\"\"\"\n",
    "1. 'cat' in spam:\n",
    "\n",
    "This expression checks if the key \"cat\" is present anywhere within the \n",
    "dictionary spam.\n",
    "\n",
    "It returns True if the key \"cat\" exists in spam, regardless of the value \n",
    "associated with that key.\n",
    "\n",
    "This includes situations where the value for \"cat\" might be None \n",
    "(indicating no value was assigned).\n",
    "\n",
    "2. 'cat' in spam.keys():\n",
    "\n",
    "This expression specifically checks if the key \"cat\" exists among the \n",
    "dictionary's keys.\n",
    "\n",
    "It returns True only if the key \"cat\" exists and is associated with a value \n",
    "(not necessarily None).\n",
    "\n",
    "\"\"\""
   ]
  },
  {
   "cell_type": "code",
   "execution_count": 7,
   "metadata": {},
   "outputs": [
    {
     "name": "stdout",
     "output_type": "stream",
     "text": [
      "True\n",
      "False\n",
      "False\n",
      "True\n"
     ]
    }
   ],
   "source": [
    "\"\"\"\n",
    "Question 6. If a dictionary is stored in spam, what is the difference between \n",
    "the expressions \"cat\" in spam and \"cat\" in spam.values()?\n",
    "\n",
    "\"\"\"\n",
    "#Answer \n",
    "\n",
    "\"\"\"\n",
    "1. 'cat' in spam:\n",
    "\n",
    "This expression checks for the existence of the key \"cat\" anywhere in the \n",
    "dictionary spam.\n",
    "\n",
    "It returns True if the key \"cat\" exists in spam, regardless of the value \n",
    "associated with that key.\n",
    "\n",
    "This includes scenarios where:\n",
    "\n",
    "  *The value for \"cat\" might be None (indicating no value was assigned).\n",
    "  *The value itself could be \"cat\" (a key can also have the same value as \n",
    "   another key).\n",
    "\n",
    "\n",
    "2. 'cat' in spam.values():\n",
    "\n",
    "This expression specifically checks if the value \"cat\" exists among the \n",
    "dictionary's values.\n",
    "\n",
    "It returns True only if there's a key in spam whose value is exactly \"cat\" \n",
    "(not a similar value or None).\n",
    "\n",
    "\"\"\"\n",
    "#Example \n",
    "\n",
    "my_dict = {'dog': 'Fido', 'cat': 'Whiskers'}\n",
    "\n",
    "# Key 'cat' exists (even though its value is not 'cat')\n",
    "print('cat' in my_dict)  # Output: True\n",
    "\n",
    "# Value 'cat' does not exist\n",
    "print('cat' in my_dict.values())  # Output: False  (Value is 'Whiskers', not 'cat')\n",
    "\n",
    "# Create a dictionary with a key 'cat' having value 'cat'\n",
    "my_dict2 = {'feline': 'cat'}\n",
    "\n",
    "# Key 'cat' might or might not exist (depends on the dictionary)\n",
    "print('cat' in my_dict2)  # Output: Might be True or False\n",
    "\n",
    "# Value 'cat' exists\n",
    "print('cat' in my_dict2.values())  # Output: True\n"
   ]
  },
  {
   "cell_type": "code",
   "execution_count": 8,
   "metadata": {},
   "outputs": [
    {
     "data": {
      "text/plain": [
       "\"\\nHere's how it works:\\n\\nspam.setdefault(key, default): This method is a dictionary method in Python \\nthat checks for a key in the dictionary.\\n\\nIf the key ('color') exists in spam, it returns the value associated with that \\nkey.\\n\\nIf the key ('color') is not found in spam, it sets the key with the provided \\ndefault value ('black') and then returns the default value ('black').\\n\\n\""
      ]
     },
     "execution_count": 8,
     "metadata": {},
     "output_type": "execute_result"
    }
   ],
   "source": [
    "\"\"\"\n",
    "Question 7. What is a shortcut for the following code?\n",
    "\n",
    "if \"color\" not in spam:\n",
    "\n",
    "spam[\"color\"] = \"black\"\n",
    "\n",
    "\"\"\"\n",
    "#Answer \n",
    "\n",
    "spam.setdefault('color', 'black')\n",
    "\n",
    "\"\"\"\n",
    "Here's how it works:\n",
    "\n",
    "spam.setdefault(key, default): This method is a dictionary method in Python \n",
    "that checks for a key in the dictionary.\n",
    "\n",
    "If the key ('color') exists in spam, it returns the value associated with that \n",
    "key.\n",
    "\n",
    "If the key ('color') is not found in spam, it sets the key with the provided \n",
    "default value ('black') and then returns the default value ('black').\n",
    "\n",
    "\"\"\"\n"
   ]
  },
  {
   "cell_type": "code",
   "execution_count": null,
   "metadata": {},
   "outputs": [],
   "source": [
    "\"\"\"\n",
    "Question 8. How do you \"pretty print\" dictionary values using which module and function?\n",
    "\n",
    "\"\"\"\n",
    "#Answer \n",
    "\n",
    "\"\"\"\n",
    "1. Using the pprint module:\n",
    "\n",
    "Import the pprint module, which offers a function specifically designed for \n",
    "pretty printing various Python objects.\n",
    "\n",
    "Use the pprint.pprint() function to display your dictionary in a well-formatted\n",
    "way, including indentation and line breaks for key-value pairs.\n",
    "\n",
    "import pprint\n",
    "\n",
    "my_dict = {'key1': [1, 2, 3], 'key2': {'a': 4, 'b': 5}, 'key3': None}\n",
    "\n",
    "# Pretty print the dictionary\n",
    "pprint.pprint(my_dict)\n",
    "\n",
    "This will typically output something like:\n",
    "\n",
    "{'key1': [1, 2, 3],\n",
    " 'key2': {'a': 4, 'b': 5},\n",
    " 'key3': None}\n",
    "\n",
    "\"\"\""
   ]
  }
 ],
 "metadata": {
  "kernelspec": {
   "display_name": "Python 3",
   "language": "python",
   "name": "python3"
  },
  "language_info": {
   "codemirror_mode": {
    "name": "ipython",
    "version": 3
   },
   "file_extension": ".py",
   "mimetype": "text/x-python",
   "name": "python",
   "nbconvert_exporter": "python",
   "pygments_lexer": "ipython3",
   "version": "3.11.9"
  }
 },
 "nbformat": 4,
 "nbformat_minor": 2
}
