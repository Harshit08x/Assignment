{
 "cells": [
  {
   "cell_type": "code",
   "execution_count": 1,
   "metadata": {},
   "outputs": [
    {
     "name": "stdout",
     "output_type": "stream",
     "text": [
      "All Python keywords:\n",
      "for\n",
      "pass\n",
      "True\n",
      "None\n",
      "finally\n",
      "raise\n",
      "assert\n",
      "try\n",
      "return\n",
      "except\n",
      "await\n",
      "lambda\n",
      "elif\n",
      "nonlocal\n",
      "async\n",
      "and\n",
      "else\n",
      "global\n",
      "yield\n",
      "from\n",
      "del\n",
      "def\n",
      "break\n",
      "in\n",
      "continue\n",
      "while\n",
      "False\n",
      "or\n",
      "class\n",
      "is\n",
      "as\n",
      "not\n",
      "import\n",
      "if\n",
      "with\n"
     ]
    }
   ],
   "source": [
    "#Assignment submitted by Harshit Agrahari Date :- 22 May 2024 \n",
    "\n",
    "\"\"\"\n",
    "Q.1. What are keywords in python? Using the keyword library, print all the python keywords.\n",
    "\n",
    "\"\"\"\n",
    "#Answer \n",
    "\n",
    "\"\"\"\n",
    "Keywords in Python\n",
    "\n",
    "Keywords are reserved words in Python that have special meanings and cannot be used as variable \n",
    "names, function names, or other identifiers. They form the building blocks of Python syntax, \n",
    "defining the control flow, data types, and operations within your code.\n",
    "\n",
    "\n",
    "Here are some common categories of keywords in Python:\n",
    "\n",
    "Value keywords: True, False, None (represent Boolean values and absence of a value)\n",
    "\n",
    "Operator keywords: and, or, not, in, is (used for logical and comparison operations)\n",
    "\n",
    "Control flow keywords: if, elif, else, for, while, break, continue (control the execution flow \n",
    "of your program)\n",
    "\n",
    "Iteration keywords: for, while (used to create loops)\n",
    "\n",
    "Structure keywords: def, class, with, as, pass, lambda (define functions, classes, and other code \n",
    "structures)\n",
    "\n",
    "Returning keywords: return, yield (used to return values from functions and generators)\n",
    "\n",
    "Import keywords: import, from, as (used to import modules and their contents)\n",
    "\n",
    "Exception handling keywords: try, except, raise, finally, assert (manage errors and exceptions)\n",
    "\n",
    "Asynchronous programming keywords: async, await (used for asynchronous programming)\n",
    "\n",
    "Variable handling keywords: del, global, nonlocal (manage variable scope)\n",
    "\n",
    "\"\"\"\n",
    "#Example \n",
    "keywords = {\n",
    "    \"and\", \"or\", \"not\", \"in\", \"is\", \"if\", \"elif\", \"else\", \"for\", \"while\", \"break\", \"continue\",\n",
    "    \"def\", \"class\", \"with\", \"as\", \"pass\", \"lambda\", \"return\", \"yield\", \"import\", \"from\",\n",
    "    \"global\", \"nonlocal\", \"True\", \"False\", \"None\", \"try\", \"except\", \"raise\", \"finally\",\n",
    "    \"del\", \"assert\", \"async\", \"await\"\n",
    "}\n",
    "\n",
    "print(\"All Python keywords:\")\n",
    "for keyword in keywords:\n",
    "    print(keyword)\n"
   ]
  },
  {
   "cell_type": "code",
   "execution_count": 2,
   "metadata": {},
   "outputs": [
    {
     "ename": "SyntaxError",
     "evalue": "invalid decimal literal (3151206872.py, line 35)",
     "output_type": "error",
     "traceback": [
      "\u001b[1;36m  Cell \u001b[1;32mIn[2], line 35\u001b[1;36m\u001b[0m\n\u001b[1;33m    invalid_variable_name = 1st_place     # Bad: starts with a number\u001b[0m\n\u001b[1;37m                            ^\u001b[0m\n\u001b[1;31mSyntaxError\u001b[0m\u001b[1;31m:\u001b[0m invalid decimal literal\n"
     ]
    }
   ],
   "source": [
    "\"\"\"\n",
    "Q.2. What are the rules to create variables in python?\n",
    "\n",
    "\"\"\"\n",
    "#Answer \n",
    "\n",
    "\"\"\"\n",
    "1. Naming Conventions:\n",
    "\n",
    "Start with a letter or underscore (_): Variable names must begin with either a lowercase or \n",
    "uppercase letter (a-z, A-Z) or an underscore. Numbers cannot be the first character.\n",
    "\n",
    "Contain only letters, numbers, and underscores: The name can consist of letters (a-z, A-Z), \n",
    "numbers (0-9), and underscores. Special characters are not allowed.\n",
    "\n",
    "Case-sensitive: Python is case-sensitive. So, age, Age, and AGE are considered different variables.\n",
    "\n",
    "\n",
    "2. Avoid Keywords:\n",
    "\n",
    "Reserved words: You cannot use Python's reserved keywords (like if, else, for, while, etc.) as \n",
    "variable names. These words have special meanings in the language.\n",
    "\n",
    "\n",
    "3. Meaningful Names:\n",
    "\n",
    "Descriptive: Choose names that clearly reflect the variable's purpose. For example, total_cost is \n",
    "better than just x.\n",
    "\n",
    "Readability: Use consistent naming conventions (e.g., snake_case for multiple words).\n",
    "\n",
    "\"\"\"\n",
    "#Example \n",
    "valid_variable_name = \"hello_world\"  # Good: descriptive and follows rules\n",
    "invalid_variable_name = 1st_place     # Bad: starts with a number\n",
    "another_valid_name = _temp_value     # Good: starts with an underscore\n",
    "reserved_keyword = if               # Bad: uses a reserved keyword\n"
   ]
  },
  {
   "cell_type": "code",
   "execution_count": null,
   "metadata": {},
   "outputs": [
    {
     "data": {
      "text/plain": [
       "'\\n\\n\\n\\n\\n\\n\\n\\n\\n\\n\\n'"
      ]
     },
     "execution_count": 3,
     "metadata": {},
     "output_type": "execute_result"
    }
   ],
   "source": [
    "\"\"\"\n",
    "Q.3. What are the standards and conventions followed for the nomenclature of \n",
    "variables in python to improve code readability and maintainability?\n",
    "\n",
    "\"\"\"\n",
    "#Answer\n",
    "\n",
    "\"\"\"\n",
    "In Python, there are established conventions for naming variables to enhance code readability and \n",
    "maintainability. \n",
    "\n",
    "Here's a breakdown of the key standards:\n",
    "\n",
    "1. Naming Conventions:\n",
    "\n",
    "Snake_case: This is the most widely used convention in Python. It separates words with underscores \n",
    "(_). This makes it clear and easy to read, especially for multi-word variable names.\n",
    "Examples: customer_name, total_price, is_admin.\n",
    "\n",
    "CamelCase (for classes only): The first letter of each word is capitalized (except the first word). \n",
    "This is typically used for naming classes, but not recommended for regular variables. \n",
    "Example: ClassName.\n",
    "\n",
    "2. Meaningful Names:\n",
    "\n",
    "Choose names that accurately reflect the variable's purpose. This makes the code self-documenting \n",
    "and easier to understand without extensive comments. Avoid single-letter names like x or y unless \n",
    "their meaning is very clear within the context. \n",
    "Examples:\n",
    " *Instead of count, use total_items_processed.\n",
    " *Instead of data, use sensor_readings (if it specifically holds sensor data).\n",
    "\n",
    "3. Consistency:\n",
    "\n",
    "Maintain a consistent naming style throughout your codebase. This makes the code look uniform and \n",
    "easier for collaborators to navigate. Choose either snake_case or camelCase for classes and \n",
    "stick to it.\n",
    "\n",
    "\n",
    "4. Avoiding Naming Conflicts:\n",
    "\n",
    "Don't use names that are already reserved keywords in Python. These keywords have specific meanings \n",
    "and cannot be used as variable names. You can find a list of keywords in Python documentation.\n",
    "\n",
    "Avoid using overly generic names like temp or data unless their purpose is very temporary within a \n",
    "small code block.\n",
    "\n",
    "5. Readability:\n",
    "\n",
    "Strike a balance between brevity and clarity. While you don't want overly long names, avoid overly \n",
    "short ones that might be cryptic. Aim for names that are clear enough to understand at a glance.\n",
    "\n",
    "\"\"\" \n"
   ]
  },
  {
   "cell_type": "code",
   "execution_count": null,
   "metadata": {},
   "outputs": [
    {
     "data": {
      "text/plain": [
       "'\\n\\n\\n\\n\\n\\n\\n\\n\\n\\n\\n\\n'"
      ]
     },
     "execution_count": 4,
     "metadata": {},
     "output_type": "execute_result"
    }
   ],
   "source": [
    "\"Q.4. What will happen if a keyword is used as a variable name?\"\n",
    "\n",
    "#Answer \n",
    "\n",
    "\"\"\"\n",
    "\n",
    "In Python, if you try to use a keyword as a variable name, you'll encounter a SyntaxError. \n",
    "\n",
    "This error occurs because keywords have special meanings within the language and cannot be used\n",
    "for other purposes like variable names.\n",
    "\n",
    "\"\"\"\n",
    "#Example\n",
    "if = 10  # This will cause a SyntaxError\n"
   ]
  },
  {
   "cell_type": "code",
   "execution_count": null,
   "metadata": {},
   "outputs": [
    {
     "data": {
      "text/plain": [
       "'\\n\\n\\n\\n\\n\\n\\n\\n\\n\\n\\n'"
      ]
     },
     "execution_count": 5,
     "metadata": {},
     "output_type": "execute_result"
    }
   ],
   "source": [
    "\"Q.5. For what purpose def keyword is used?\"\n",
    "#Answer \n",
    "\n",
    "\"\"\"\n",
    "Show drafts\n",
    "volume_up\n",
    "The def keyword in Python is used to define functions. A function is a reusable block of code that \n",
    "performs a specific task. It can take inputs (arguments), process them, and optionally return an \n",
    "output (a value).\n",
    "\n",
    "\"\"\"\n",
    "#Example \n",
    "def greet(name):  # Function definition with one argument (name)\n",
    "  \"\"\"Prints a greeting message.\"\"\"\n",
    "  print(f\"Hello, {name}!\")\n",
    "\n",
    "greet(\"Alice\")  # Calling the function with an argument\n"
   ]
  },
  {
   "cell_type": "code",
   "execution_count": null,
   "metadata": {},
   "outputs": [
    {
     "data": {
      "text/plain": [
       "'\\n\\n\\n\\n\\n\\n\\n\\n\\n\\n\\n\\n'"
      ]
     },
     "execution_count": 6,
     "metadata": {},
     "output_type": "execute_result"
    }
   ],
   "source": [
    "\"Q.6. What is the operation of this special character ‘\\’?\"\n",
    "\n",
    "#Answer \n",
    "\n",
    "\"\"\"\n",
    "Escape Character:  \n",
    "\n",
    "The primary function of \\ in Python is as an escape character.\n",
    "\n",
    "It is used to precede characters that would otherwise have special meanings within strings, \n",
    "allowing you to include those characters literally within the string.\n",
    "\n",
    "Examples:\n",
    "\n",
    "\\\" to represent a double quote within a string enclosed in double quotes (e.g., \"He said, \\\"Hello!\\\"\").\n",
    "\\' to represent a single quote within a string enclosed in single quotes (e.g., 'I can't wait.').\n",
    "\\\\ to represent a backslash character itself (e.g., print(\"This is a backslash \\\\\")).\n",
    "\n",
    "\"\"\""
   ]
  },
  {
   "cell_type": "code",
   "execution_count": null,
   "metadata": {},
   "outputs": [
    {
     "data": {
      "text/plain": [
       "'\\n\\n\\n\\n\\n\\n\\n\\n\\n\\n\\n\\n\\n\\n'"
      ]
     },
     "execution_count": 7,
     "metadata": {},
     "output_type": "execute_result"
    }
   ],
   "source": [
    "\"Q.7. Give an example of the following conditions:\"\n",
    "#(i) Homogeneous list\n",
    "#(ii) Heterogeneous set\n",
    "#(iii) Homogeneous tuple\"\n",
    "\n",
    "#Answer \n",
    "\n",
    "\"\"\"\n",
    "1.A homogeneous list contains elements of the same data type. \n",
    "\n",
    "Here's an example:\n",
    "numbers = [1, 2, 3, 4, 5]  # All elements are integers\n",
    "\n",
    "2.A heterogeneous set contains elements of different data types. Sets don't guarantee order, so the \n",
    "order you see the elements printed might differ. \n",
    "\n",
    "Here's an example:\n",
    "mixed_data = {\"apple\", 10, True}  # String, integer, and boolean \n",
    "\n",
    "\n",
    "3.Similar to homogeneous lists, a homogeneous tuple contains elements of the same data type. \n",
    "\n",
    "Here's an example:\n",
    "locations = (\"London\", \"Paris\", \"New York\") \n",
    "\n",
    "\"\"\""
   ]
  },
  {
   "cell_type": "code",
   "execution_count": null,
   "metadata": {},
   "outputs": [],
   "source": [
    "\"\"\" \n",
    "Q.8. Explain the mutable and immutable data types with proper explanation & \n",
    "examples.\n",
    "\n",
    "\"\"\"\n",
    "#Answer \n",
    "\n",
    "\"\"\"\n",
    "1.Mutable Data Types:\n",
    "\n",
    "Modifiable: Elements within a mutable data type can be changed after it's created.\n",
    "\n",
    "Use Cases: These are ideal for situations where you need to update or manipulate data after it's \n",
    "been assigned.\n",
    "\n",
    "Common Data Type = List , Sets , Dictionaries\n",
    "\n",
    "2.Immutable Data Types:\n",
    "\n",
    "Unmodifiable: Elements within an immutable data type cannot be changed after it's created.\n",
    "\n",
    "Use Cases: These are suitable for situations where you need to ensure data integrity and prevent \n",
    "accidental modifications.\n",
    "\n",
    "Common Data Types = Stings, Tuples , Numbers\n",
    "\n",
    "\n",
    "\"\"\""
   ]
  },
  {
   "cell_type": "code",
   "execution_count": 3,
   "metadata": {},
   "outputs": [
    {
     "name": "stdout",
     "output_type": "stream",
     "text": [
      "    *\n",
      "   ***\n",
      "  *****\n",
      " *******\n",
      "*********\n"
     ]
    }
   ],
   "source": [
    "\"\"\"\n",
    "Q.9. Write a code to create the given structure using only for loop.\n",
    "    *\n",
    "   ***\n",
    "  *****\n",
    " *******\n",
    "*********\n",
    "\n",
    "\"\"\"\n",
    "#Answer \n",
    "\n",
    "# Define the number of rows (height of the pyramid)\n",
    "num_rows = 5\n",
    "\n",
    "# Outer loop for rows\n",
    "for i in range(num_rows):\n",
    "    # Print spaces before the stars\n",
    "    print(\" \" * (num_rows - i - 1), end=\"\")\n",
    "    \n",
    "    # Print stars for each row\n",
    "    print(\"*\" * (2 * i + 1))\n"
   ]
  },
  {
   "cell_type": "code",
   "execution_count": 1,
   "metadata": {},
   "outputs": [
    {
     "name": "stdout",
     "output_type": "stream",
     "text": [
      "|||||||||\n",
      " |||||||\n",
      "  |||||\n",
      "   |||\n",
      "    |\n"
     ]
    }
   ],
   "source": [
    "\"\"\"\n",
    "Q.10. Write a code to create the given structure using while loop.\n",
    "|||||||||\n",
    " |||||||\n",
    "  |||||\n",
    "   |||\n",
    "    |\n",
    "    \n",
    "\"\"\"\n",
    "#Answer \n",
    "\n",
    "n = 5\n",
    "for i in range (n):\n",
    "    for j in range (i):\n",
    "        print(\" \", end=\"\")\n",
    "    for j in range (2*(n-i)-1):\n",
    "        print(\"|\",end=\"\")\n",
    "    print()\n",
    "\n",
    "\n"
   ]
  },
  {
   "cell_type": "code",
   "execution_count": null,
   "metadata": {},
   "outputs": [],
   "source": []
  }
 ],
 "metadata": {
  "kernelspec": {
   "display_name": "Python 3",
   "language": "python",
   "name": "python3"
  },
  "language_info": {
   "codemirror_mode": {
    "name": "ipython",
    "version": 3
   },
   "file_extension": ".py",
   "mimetype": "text/x-python",
   "name": "python",
   "nbconvert_exporter": "python",
   "pygments_lexer": "ipython3",
   "version": "3.11.9"
  }
 },
 "nbformat": 4,
 "nbformat_minor": 2
}
